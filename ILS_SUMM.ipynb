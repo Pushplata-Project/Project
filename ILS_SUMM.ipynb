{
  "nbformat": 4,
  "nbformat_minor": 0,
  "metadata": {
    "colab": {
      "provenance": [],
      "mount_file_id": "1PO3ioF1MDM4I-AwW8JOT1bZT62Z5jPSB",
      "authorship_tag": "ABX9TyNx6ZkaoI7OZYL8g2dz6hRC",
      "include_colab_link": true
    },
    "kernelspec": {
      "name": "python3",
      "display_name": "Python 3"
    },
    "language_info": {
      "name": "python"
    }
  },
  "cells": [
    {
      "cell_type": "markdown",
      "metadata": {
        "id": "view-in-github",
        "colab_type": "text"
      },
      "source": [
        "<a href=\"https://colab.research.google.com/github/pushplatadubey/collab-notebook/blob/master/ILS_SUMM.ipynb\" target=\"_parent\"><img src=\"https://colab.research.google.com/assets/colab-badge.svg\" alt=\"Open In Colab\"/></a>"
      ]
    },
    {
      "cell_type": "code",
      "source": [
        "!git config --global user.name \"Pushplata Dubey\""
      ],
      "metadata": {
        "id": "vBcfpWkD8Zjh"
      },
      "execution_count": 2,
      "outputs": []
    },
    {
      "cell_type": "code",
      "source": [
        "!git config --global user.email \"pushplata.dubey@gmail.com\""
      ],
      "metadata": {
        "id": "oamIjwF09ifp"
      },
      "execution_count": 1,
      "outputs": []
    },
    {
      "cell_type": "code",
      "source": [
        "!mkdir -p ~/.ssh"
      ],
      "metadata": {
        "id": "5wN70fjrMEiR"
      },
      "execution_count": 3,
      "outputs": []
    },
    {
      "cell_type": "code",
      "source": [
        "!ssh-keyscan -t rsa github.com >> ~/.ssh/known_hosts"
      ],
      "metadata": {
        "colab": {
          "base_uri": "https://localhost:8080/"
        },
        "id": "ff_XSdDwMUjV",
        "outputId": "849127b9-f0e6-4898-f470-a189244cf9e5"
      },
      "execution_count": 4,
      "outputs": [
        {
          "output_type": "stream",
          "name": "stdout",
          "text": [
            "# github.com:22 SSH-2.0-48ecf9ce5\n"
          ]
        }
      ]
    },
    {
      "cell_type": "code",
      "source": [
        "!cp -r /content/drive/MyDrive/ILS-SUMM/ssh/* /root/.ssh/"
      ],
      "metadata": {
        "id": "PYEFgRGgLqwx"
      },
      "execution_count": 5,
      "outputs": []
    },
    {
      "cell_type": "code",
      "execution_count": 6,
      "metadata": {
        "colab": {
          "base_uri": "https://localhost:8080/"
        },
        "id": "W9B3Tu3nmZ3d",
        "outputId": "6a13b15f-0508-42fd-fec5-ed296f2a7e04"
      },
      "outputs": [
        {
          "output_type": "stream",
          "name": "stdout",
          "text": [
            "Cloning into 'ils_sum'...\n",
            "remote: Enumerating objects: 259, done.\u001b[K\n",
            "remote: Counting objects: 100% (16/16), done.\u001b[K\n",
            "remote: Compressing objects: 100% (11/11), done.\u001b[K\n",
            "remote: Total 259 (delta 6), reused 13 (delta 5), pack-reused 243 (from 1)\u001b[K\n",
            "Receiving objects: 100% (259/259), 48.81 MiB | 48.05 MiB/s, done.\n",
            "Resolving deltas: 100% (144/144), done.\n"
          ]
        }
      ],
      "source": [
        "!git clone git@github.com:pushplatadubey/ils_sum.git"
      ]
    },
    {
      "cell_type": "code",
      "source": [
        "mv ils_sum ILS-SUMM"
      ],
      "metadata": {
        "id": "-fLM3P01rtb3"
      },
      "execution_count": 8,
      "outputs": []
    },
    {
      "cell_type": "code",
      "source": [
        "%cd /content/ILS-SUMM/data/"
      ],
      "metadata": {
        "colab": {
          "base_uri": "https://localhost:8080/"
        },
        "id": "vPqDxIoyxgJ2",
        "outputId": "c8062176-b4f0-4c9b-9a91-05d797bb9e75"
      },
      "execution_count": 9,
      "outputs": [
        {
          "output_type": "stream",
          "name": "stdout",
          "text": [
            "/content/ILS-SUMM/data\n"
          ]
        }
      ]
    },
    {
      "cell_type": "code",
      "source": [
        "!wget https://archive.org/download/CosmosLaundromatFirstCycle/Cosmos%20Laundromat%20-%20First%20Cycle%20%281080p%29.mp4"
      ],
      "metadata": {
        "colab": {
          "base_uri": "https://localhost:8080/"
        },
        "collapsed": true,
        "id": "LNbWMLEBgW6k",
        "outputId": "41bd5d0d-e27a-4b4f-b9ce-57f31f2bec6d"
      },
      "execution_count": 10,
      "outputs": [
        {
          "output_type": "stream",
          "name": "stdout",
          "text": [
            "--2025-02-24 15:59:29--  https://archive.org/download/CosmosLaundromatFirstCycle/Cosmos%20Laundromat%20-%20First%20Cycle%20%281080p%29.mp4\n",
            "Resolving archive.org (archive.org)... 207.241.224.2\n",
            "Connecting to archive.org (archive.org)|207.241.224.2|:443... connected.\n",
            "HTTP request sent, awaiting response... 302 Found\n",
            "Location: https://dn720707.ca.archive.org/0/items/CosmosLaundromatFirstCycle/Cosmos%20Laundromat%20-%20First%20Cycle%20%281080p%29.mp4 [following]\n",
            "--2025-02-24 15:59:30--  https://dn720707.ca.archive.org/0/items/CosmosLaundromatFirstCycle/Cosmos%20Laundromat%20-%20First%20Cycle%20%281080p%29.mp4\n",
            "Resolving dn720707.ca.archive.org (dn720707.ca.archive.org)... 204.62.246.92\n",
            "Connecting to dn720707.ca.archive.org (dn720707.ca.archive.org)|204.62.246.92|:443... connected.\n",
            "HTTP request sent, awaiting response... 200 OK\n",
            "Length: 220087570 (210M) [video/mp4]\n",
            "Saving to: ‘Cosmos Laundromat - First Cycle (1080p).mp4’\n",
            "\n",
            "Cosmos Laundromat - 100%[===================>] 209.89M  42.3MB/s    in 5.1s    \n",
            "\n",
            "2025-02-24 15:59:36 (41.1 MB/s) - ‘Cosmos Laundromat - First Cycle (1080p).mp4’ saved [220087570/220087570]\n",
            "\n"
          ]
        }
      ]
    },
    {
      "cell_type": "code",
      "source": [
        "!mv Cosmos\\ Laundromat\\ -\\ First\\ Cycle\\ \\(1080p\\).mp4 test.mp4"
      ],
      "metadata": {
        "id": "8MUi6tkIxrwF"
      },
      "execution_count": 11,
      "outputs": []
    },
    {
      "cell_type": "code",
      "source": [
        "%cd /content/ILS-SUMM/datasets/"
      ],
      "metadata": {
        "colab": {
          "base_uri": "https://localhost:8080/"
        },
        "id": "qPTi917iyBdU",
        "outputId": "53995eba-cbb3-436a-8894-19c4cfe786ed"
      },
      "execution_count": 12,
      "outputs": [
        {
          "output_type": "stream",
          "name": "stdout",
          "text": [
            "/content/ILS-SUMM/datasets\n"
          ]
        }
      ]
    },
    {
      "cell_type": "code",
      "source": [
        "!unzip ostd.zip"
      ],
      "metadata": {
        "id": "ISrZMl9hmiwK",
        "colab": {
          "base_uri": "https://localhost:8080/"
        },
        "collapsed": true,
        "outputId": "0bf340af-73c9-4350-8616-98d496d70649"
      },
      "execution_count": 13,
      "outputs": [
        {
          "output_type": "stream",
          "name": "stdout",
          "text": [
            "Archive:  ostd.zip\n",
            "   creating: ostd/1000 Days/\n",
            "  inflating: ostd/1000 Days/optimal_representative_points.npy  \n",
            "  inflating: ostd/1000 Days/optimal_total_distance.npy  \n",
            "  inflating: ostd/1000 Days/shots_durations.npy  \n",
            "  inflating: ostd/1000 Days/shots_features.npy  \n",
            "   creating: ostd/Big Buck Bunny/\n",
            "  inflating: ostd/Big Buck Bunny/optimal_representative_points.npy  \n",
            "  inflating: ostd/Big Buck Bunny/optimal_total_distance.npy  \n",
            "  inflating: ostd/Big Buck Bunny/shots_durations.npy  \n",
            "  inflating: ostd/Big Buck Bunny/shots_features.npy  \n",
            "   creating: ostd/Boy Who Never Slept/\n",
            "  inflating: ostd/Boy Who Never Slept/optimal_representative_points.npy  \n",
            "  inflating: ostd/Boy Who Never Slept/optimal_total_distance.npy  \n",
            "  inflating: ostd/Boy Who Never Slept/shots_durations.npy  \n",
            "  inflating: ostd/Boy Who Never Slept/shots_features.npy  \n",
            "   creating: ostd/CH7/\n",
            "  inflating: ostd/CH7/optimal_representative_points.npy  \n",
            "  inflating: ostd/CH7/optimal_total_distance.npy  \n",
            "  inflating: ostd/CH7/shots_durations.npy  \n",
            "  inflating: ostd/CH7/shots_features.npy  \n",
            "   creating: ostd/Cosmos Laundromat/\n",
            "  inflating: ostd/Cosmos Laundromat/optimal_representative_points.npy  \n",
            "  inflating: ostd/Cosmos Laundromat/optimal_total_distance.npy  \n",
            "  inflating: ostd/Cosmos Laundromat/shots_durations.npy  \n",
            "  inflating: ostd/Cosmos Laundromat/shots_features.npy  \n",
            "   creating: ostd/Elephants Dream/\n",
            "  inflating: ostd/Elephants Dream/optimal_representative_points.npy  \n",
            "  inflating: ostd/Elephants Dream/optimal_total_distance.npy  \n",
            "  inflating: ostd/Elephants Dream/shots_durations.npy  \n",
            "  inflating: ostd/Elephants Dream/shots_features.npy  \n",
            "   creating: ostd/Honey/\n",
            "  inflating: ostd/Honey/optimal_representative_points.npy  \n",
            "  inflating: ostd/Honey/optimal_total_distance.npy  \n",
            "  inflating: ostd/Honey/shots_durations.npy  \n",
            "  inflating: ostd/Honey/shots_features.npy  \n",
            "   creating: ostd/Jathias Wager/\n",
            "  inflating: ostd/Jathias Wager/optimal_representative_points.npy  \n",
            "  inflating: ostd/Jathias Wager/optimal_total_distance.npy  \n",
            "  inflating: ostd/Jathias Wager/shots_durations.npy  \n",
            "  inflating: ostd/Jathias Wager/shots_features.npy  \n",
            "   creating: ostd/La Chute dune Plume/\n",
            "  inflating: ostd/La Chute dune Plume/optimal_representative_points.npy  \n",
            "  inflating: ostd/La Chute dune Plume/optimal_total_distance.npy  \n",
            "  inflating: ostd/La Chute dune Plume/shots_durations.npy  \n",
            "  inflating: ostd/La Chute dune Plume/shots_features.npy  \n",
            "   creating: ostd/Meridian/\n",
            "  inflating: ostd/Meridian/optimal_representative_points.npy  \n",
            "  inflating: ostd/Meridian/optimal_total_distance.npy  \n",
            "  inflating: ostd/Meridian/shots_durations.npy  \n",
            "  inflating: ostd/Meridian/shots_features.npy  \n",
            "   creating: ostd/Pentagon/\n",
            "  inflating: ostd/Pentagon/optimal_representative_points.npy  \n",
            "  inflating: ostd/Pentagon/optimal_total_distance.npy  \n",
            "  inflating: ostd/Pentagon/shots_durations.npy  \n",
            "  inflating: ostd/Pentagon/shots_features.npy  \n",
            "   creating: ostd/Route 66/\n",
            "  inflating: ostd/Route 66/optimal_representative_points.npy  \n",
            "  inflating: ostd/Route 66/optimal_total_distance.npy  \n",
            "  inflating: ostd/Route 66/shots_durations.npy  \n",
            "  inflating: ostd/Route 66/shots_features.npy  \n",
            "   creating: ostd/Seven Dead Men/\n",
            "  inflating: ostd/Seven Dead Men/optimal_representative_points.npy  \n",
            "  inflating: ostd/Seven Dead Men/optimal_total_distance.npy  \n",
            "  inflating: ostd/Seven Dead Men/shots_durations.npy  \n",
            "  inflating: ostd/Seven Dead Men/shots_features.npy  \n",
            "   creating: ostd/Sintel/\n",
            "  inflating: ostd/Sintel/optimal_representative_points.npy  \n",
            "  inflating: ostd/Sintel/optimal_total_distance.npy  \n",
            "  inflating: ostd/Sintel/shots_durations.npy  \n",
            "  inflating: ostd/Sintel/shots_features.npy  \n",
            "   creating: ostd/Sita Sings the Blues/\n",
            "  inflating: ostd/Sita Sings the Blues/optimal_representative_points.npy  \n",
            "  inflating: ostd/Sita Sings the Blues/optimal_total_distance.npy  \n",
            "  inflating: ostd/Sita Sings the Blues/shots_durations.npy  \n",
            "  inflating: ostd/Sita Sings the Blues/shots_features.npy  \n",
            "   creating: ostd/Star Wreck/\n",
            "  inflating: ostd/Star Wreck/optimal_representative_points.npy  \n",
            "  inflating: ostd/Star Wreck/optimal_total_distance.npy  \n",
            "  inflating: ostd/Star Wreck/shots_durations.npy  \n",
            "  inflating: ostd/Star Wreck/shots_features.npy  \n",
            "   creating: ostd/Tears of Steel/\n",
            "  inflating: ostd/Tears of Steel/optimal_representative_points.npy  \n",
            "  inflating: ostd/Tears of Steel/optimal_total_distance.npy  \n",
            "  inflating: ostd/Tears of Steel/shots_durations.npy  \n",
            "  inflating: ostd/Tears of Steel/shots_features.npy  \n",
            "   creating: ostd/Valkaama/\n",
            "  inflating: ostd/Valkaama/optimal_representative_points.npy  \n",
            "  inflating: ostd/Valkaama/optimal_total_distance.npy  \n",
            "  inflating: ostd/Valkaama/shots_durations.npy  \n",
            "  inflating: ostd/Valkaama/shots_features.npy  \n"
          ]
        }
      ]
    },
    {
      "cell_type": "code",
      "source": [
        "%cd /content/ILS-SUMM/datasets/ostd/Cosmos\\ Laundromat"
      ],
      "metadata": {
        "colab": {
          "base_uri": "https://localhost:8080/"
        },
        "id": "YEebFlN9ydZu",
        "outputId": "3fb265fb-b176-4306-91b2-b4b47225dfed"
      },
      "execution_count": null,
      "outputs": [
        {
          "output_type": "stream",
          "name": "stdout",
          "text": [
            "/content/ILS-SUMM/datasets/ostd/Cosmos Laundromat\n"
          ]
        }
      ]
    },
    {
      "cell_type": "code",
      "source": [
        "!cp shots_durations.npy shots_features.npy /content/ILS-SUMM/data/"
      ],
      "metadata": {
        "id": "3f1U8Q50ysHE"
      },
      "execution_count": null,
      "outputs": []
    },
    {
      "cell_type": "code",
      "source": [
        "%cd /content/ILS-SUMM/"
      ],
      "metadata": {
        "colab": {
          "base_uri": "https://localhost:8080/"
        },
        "id": "l1ZIYYFEy21F",
        "outputId": "1237d99c-d4c8-4126-d825-814f3540bbb7"
      },
      "execution_count": null,
      "outputs": [
        {
          "output_type": "stream",
          "name": "stdout",
          "text": [
            "/content/ILS-SUMM\n"
          ]
        }
      ]
    },
    {
      "cell_type": "code",
      "source": [
        "!python /content/ILS-SUMM/demo.py test.mp4 0.5"
      ],
      "metadata": {
        "colab": {
          "base_uri": "https://localhost:8080/"
        },
        "id": "wtgCaGFGmp27",
        "outputId": "32886c2b-27ed-49b6-f5a2-2af2e561b546",
        "collapsed": true
      },
      "execution_count": null,
      "outputs": [
        {
          "output_type": "stream",
          "name": "stdout",
          "text": [
            "error: XDG_RUNTIME_DIR not set in the environment.\n",
            "ALSA lib confmisc.c:855:(parse_card) cannot find card '0'\n",
            "ALSA lib conf.c:5178:(_snd_config_evaluate) function snd_func_card_inum returned error: No such file or directory\n",
            "ALSA lib confmisc.c:422:(snd_func_concat) error evaluating strings\n",
            "ALSA lib conf.c:5178:(_snd_config_evaluate) function snd_func_concat returned error: No such file or directory\n",
            "ALSA lib confmisc.c:1334:(snd_func_refer) error evaluating name\n",
            "ALSA lib conf.c:5178:(_snd_config_evaluate) function snd_func_refer returned error: No such file or directory\n",
            "ALSA lib conf.c:5701:(snd_config_expand) Evaluate error: No such file or directory\n",
            "ALSA lib pcm.c:2664:(snd_pcm_open_noupdate) Unknown PCM default\n",
            "ALSA lib confmisc.c:855:(parse_card) cannot find card '0'\n",
            "ALSA lib conf.c:5178:(_snd_config_evaluate) function snd_func_card_inum returned error: No such file or directory\n",
            "ALSA lib confmisc.c:422:(snd_func_concat) error evaluating strings\n",
            "ALSA lib conf.c:5178:(_snd_config_evaluate) function snd_func_concat returned error: No such file or directory\n",
            "ALSA lib confmisc.c:1334:(snd_func_refer) error evaluating name\n",
            "ALSA lib conf.c:5178:(_snd_config_evaluate) function snd_func_refer returned error: No such file or directory\n",
            "ALSA lib conf.c:5701:(snd_config_expand) Evaluate error: No such file or directory\n",
            "ALSA lib pcm.c:2664:(snd_pcm_open_noupdate) Unknown PCM default\n",
            "Local Search - iteration number: 0\n",
            "Total distance: 92.2720226317863\n",
            "Local Search - iteration number: 10\n",
            "Total distance: 22.98526119020353\n",
            "Local Search - iteration number: 20\n",
            "Total distance: 15.534687217321334\n",
            "Local Search - iteration number: 30\n",
            "Total distance: 10.98117357355238\n",
            "Local Search - iteration number: 40\n",
            "Total distance: 7.802800467162285\n",
            "Local Search - iteration number: 50\n",
            "Total distance: 5.286429309794315\n",
            "ILS_SUMM - iteration number: 0\n",
            "Total distance: 4.220196013267757\n",
            "Perturbation with M = 1\n",
            "Perturbation is valid, M = 1\n",
            "Local Search - iteration number: 0\n",
            "Total distance: 4.662470922136968\n",
            "ILS_SUMM - iteration number: 0\n",
            "Total distance: 4.172855709958271\n",
            "Perturbation with M = 1\n",
            "Perturbation is valid, M = 1\n",
            "Local Search - iteration number: 0\n",
            "Total distance: 4.602616899176386\n",
            "ILS_SUMM - iteration number: 0\n",
            "Total distance: 4.172855709958271\n",
            "Perturbation with M = 2\n",
            "Perturbation is valid, M = 2\n",
            "Local Search - iteration number: 0\n",
            "Total distance: 4.826343168453304\n",
            "ILS_SUMM - iteration number: 0\n",
            "Total distance: 4.134266351247334\n",
            "Perturbation with M = 1\n",
            "Perturbation is valid, M = 1\n",
            "Local Search - iteration number: 0\n",
            "Total distance: 4.551018707136544\n",
            "ILS_SUMM - iteration number: 0\n",
            "Total distance: 4.134266351247334\n",
            "Perturbation with M = 2\n",
            "Perturbation is valid, M = 2\n",
            "Local Search - iteration number: 0\n",
            "Total distance: 4.790464121489884\n",
            "ILS_SUMM - iteration number: 0\n",
            "Total distance: 4.134266351247334\n",
            "Perturbation with M = 3\n",
            "Perturbation is valid, M = 3\n",
            "Local Search - iteration number: 0\n",
            "Total distance: 5.15740067629249\n",
            "ILS_SUMM - iteration number: 0\n",
            "Total distance: 4.134266351247334\n",
            "Perturbation with M = 4\n",
            "Perturbation is valid, M = 4\n",
            "Local Search - iteration number: 0\n",
            "Total distance: 5.530614479454251\n",
            "ILS_SUMM - iteration number: 0\n",
            "Total distance: 4.134266351247334\n",
            "Perturbation with M = 5\n",
            "Perturbation is valid, M = 5\n",
            "Local Search - iteration number: 0\n",
            "Total distance: 5.849499339632971\n",
            "The selected shots are: [  2   3   5   6   8   9  10  11  13  14  16  17  20  23  24  31  32  37\n",
            "  42  43  44  45  47  50  51  52  54  55  57  58  59  60  61  62  64  65\n",
            "  66  67  68  69  70  71  72  73  74  75  76  77  78  79  80  81  82  84\n",
            "  85  86  88  90 102]\n",
            "The achieved total distance is: 4.134\n",
            "Moviepy - Building video data/video_summary.mp4.\n",
            "MoviePy - Writing audio in video_summaryTEMP_MPY_wvf_snd.mp3\n",
            "MoviePy - Done.\n",
            "Moviepy - Writing video data/video_summary.mp4\n",
            "\n",
            "t:   7% 576/8706 [00:56<17:27,  7.76it/s, now=None]Traceback (most recent call last):\n",
            "  File \"/content/ILS-SUMM/demo.py\", line 56, in <module>\n",
            "    demo(sys.argv[1],float(sys.argv[2]))\n",
            "  File \"/content/ILS-SUMM/demo.py\", line 53, in demo\n",
            "    summ_clip.write_videofile(os.path.join('data', \"video_summary.mp4\"))\n",
            "  File \"<decorator-gen-55>\", line 2, in write_videofile\n",
            "  File \"/usr/local/lib/python3.11/dist-packages/moviepy/decorators.py\", line 54, in requires_duration\n",
            "    return f(clip, *a, **k)\n",
            "           ^^^^^^^^^^^^^^^^\n",
            "  File \"<decorator-gen-54>\", line 2, in write_videofile\n",
            "  File \"/usr/local/lib/python3.11/dist-packages/moviepy/decorators.py\", line 135, in use_clip_fps_by_default\n",
            "    return f(clip, *new_a, **new_kw)\n",
            "           ^^^^^^^^^^^^^^^^^^^^^^^^^\n",
            "  File \"<decorator-gen-53>\", line 2, in write_videofile\n",
            "  File \"/usr/local/lib/python3.11/dist-packages/moviepy/decorators.py\", line 22, in convert_masks_to_RGB\n",
            "    return f(clip, *a, **k)\n",
            "           ^^^^^^^^^^^^^^^^\n",
            "  File \"/usr/local/lib/python3.11/dist-packages/moviepy/video/VideoClip.py\", line 300, in write_videofile\n",
            "    ffmpeg_write_video(self, filename, fps, codec,\n",
            "  File \"/usr/local/lib/python3.11/dist-packages/moviepy/video/io/ffmpeg_writer.py\", line 228, in ffmpeg_write_video\n",
            "    writer.write_frame(frame)\n",
            "  File \"/usr/local/lib/python3.11/dist-packages/moviepy/video/io/ffmpeg_writer.py\", line 136, in write_frame\n",
            "    self.proc.stdin.write(img_array.tobytes())\n",
            "KeyboardInterrupt\n",
            "^C\n"
          ]
        }
      ]
    },
    {
      "cell_type": "code",
      "source": [
        "!cp /content/drive/MyDrive/ILS-SUMM/datasets/gt\\ auxiliary\\ scripts/ffprob_shot_segmentation.py /content/ILS-SUMM/datasets/gt\\ auxiliary\\ scripts/"
      ],
      "metadata": {
        "id": "e8_UA7Ub3VF0"
      },
      "execution_count": null,
      "outputs": []
    },
    {
      "cell_type": "code",
      "source": [
        "mv datasets/gt\\ auxiliary\\ scripts datasets/scripts"
      ],
      "metadata": {
        "id": "tQSkXFhG6B8l",
        "colab": {
          "base_uri": "https://localhost:8080/"
        },
        "outputId": "3f1d7d14-45b3-4c0a-88dc-ff84cf346ff0"
      },
      "execution_count": null,
      "outputs": [
        {
          "output_type": "stream",
          "name": "stdout",
          "text": [
            "mv: cannot stat 'datasets/gt auxiliary scripts': No such file or directory\n"
          ]
        }
      ]
    },
    {
      "cell_type": "code",
      "source": [
        "%cd /content/ILS-SUMM/"
      ],
      "metadata": {
        "colab": {
          "base_uri": "https://localhost:8080/"
        },
        "id": "w-HL7U6AvW8H",
        "outputId": "038b20a5-be89-40a7-a96f-2d61f8774561"
      },
      "execution_count": 15,
      "outputs": [
        {
          "output_type": "stream",
          "name": "stdout",
          "text": [
            "/content/ILS-SUMM\n"
          ]
        }
      ]
    },
    {
      "cell_type": "code",
      "source": [
        "!python datasets/scripts/ffprob_shot_segmentation.py data test.mp4"
      ],
      "metadata": {
        "colab": {
          "base_uri": "https://localhost:8080/"
        },
        "id": "Y3WRF1ld6bDU",
        "outputId": "4b8ca596-c3ed-43f0-d5ba-56c63f1120c6"
      },
      "execution_count": 21,
      "outputs": [
        {
          "output_type": "stream",
          "name": "stdout",
          "text": [
            "Ffmpeg shot segmentation in action...\n",
            "Computed Scene Threshold: 0.2 (Avg Motion: 32.34667205810547)\n",
            "Executing command: ffprobe -show_frames -of compact=p=0 -f lavfi \"movie=data/test.mp4,select=gt(scene\\,0.2)\" > data/shot_segmentation.txt\n",
            "ffprobe version 4.4.2-0ubuntu0.22.04.1 Copyright (c) 2007-2021 the FFmpeg developers\n",
            "  built with gcc 11 (Ubuntu 11.2.0-19ubuntu1)\n",
            "  configuration: --prefix=/usr --extra-version=0ubuntu0.22.04.1 --toolchain=hardened --libdir=/usr/lib/x86_64-linux-gnu --incdir=/usr/include/x86_64-linux-gnu --arch=amd64 --enable-gpl --disable-stripping --enable-gnutls --enable-ladspa --enable-libaom --enable-libass --enable-libbluray --enable-libbs2b --enable-libcaca --enable-libcdio --enable-libcodec2 --enable-libdav1d --enable-libflite --enable-libfontconfig --enable-libfreetype --enable-libfribidi --enable-libgme --enable-libgsm --enable-libjack --enable-libmp3lame --enable-libmysofa --enable-libopenjpeg --enable-libopenmpt --enable-libopus --enable-libpulse --enable-librabbitmq --enable-librubberband --enable-libshine --enable-libsnappy --enable-libsoxr --enable-libspeex --enable-libsrt --enable-libssh --enable-libtheora --enable-libtwolame --enable-libvidstab --enable-libvorbis --enable-libvpx --enable-libwebp --enable-libx265 --enable-libxml2 --enable-libxvid --enable-libzimg --enable-libzmq --enable-libzvbi --enable-lv2 --enable-omx --enable-openal --enable-opencl --enable-opengl --enable-sdl2 --enable-pocketsphinx --enable-librsvg --enable-libmfx --enable-libdc1394 --enable-libdrm --enable-libiec61883 --enable-chromaprint --enable-frei0r --enable-libx264 --enable-shared\n",
            "  libavutil      56. 70.100 / 56. 70.100\n",
            "  libavcodec     58.134.100 / 58.134.100\n",
            "  libavformat    58. 76.100 / 58. 76.100\n",
            "  libavdevice    58. 13.100 / 58. 13.100\n",
            "  libavfilter     7.110.100 /  7.110.100\n",
            "  libswscale      5.  9.100 /  5.  9.100\n",
            "  libswresample   3.  9.100 /  3.  9.100\n",
            "  libpostproc    55.  9.100 / 55.  9.100\n",
            "Input #0, lavfi, from 'movie=data/test.mp4,select=gt(scene\\,0.2)':\n",
            "  Duration: N/A, start: 17.291667, bitrate: N/A\n",
            "  Stream #0:0: Video: rawvideo (I420 / 0x30323449), yuv420p, 1920x804 [SAR 1:1 DAR 160:67], 24 tbr, 90k tbn, 90k tbc\n",
            "\u001b[1;32m[Parsed_movie_0 @ 0x5bdd312b44c0] \u001b[0m\u001b[0;33mEOF timestamp not reliable\n",
            "\u001b[0mFinished ffmpeg shot segmentation\n",
            "Reading shot seg text file\n",
            "Computed Lmin: 11, Lmax: 350 based on Motion Intensity: 2.408437728881836, Scene Complexity: 0.6374213834972082\n",
            "207\n",
            "Dumped frame: output_frames/shot_0000_frame_0000.jpg\n",
            "208\n",
            "Dumped frame: output_frames/shot_0001_frame_0207.jpg\n",
            "233\n",
            "Dumped frame: output_frames/shot_0002_frame_0415.jpg\n",
            "233\n",
            "Dumped frame: output_frames/shot_0003_frame_0648.jpg\n",
            "235\n",
            "Dumped frame: output_frames/shot_0004_frame_0881.jpg\n",
            "281\n",
            "Dumped frame: output_frames/shot_0005_frame_1116.jpg\n",
            "177\n",
            "Dumped frame: output_frames/shot_0006_frame_1397.jpg\n",
            "177\n",
            "Dumped frame: output_frames/shot_0007_frame_1574.jpg\n",
            "321\n",
            "Dumped frame: output_frames/shot_0008_frame_1751.jpg\n",
            "303\n",
            "Dumped frame: output_frames/shot_0009_frame_2072.jpg\n",
            "265\n",
            "Dumped frame: output_frames/shot_0010_frame_2375.jpg\n",
            "265\n",
            "Dumped frame: output_frames/shot_0011_frame_2640.jpg\n",
            "265\n",
            "Dumped frame: output_frames/shot_0012_frame_2905.jpg\n",
            "300\n",
            "Dumped frame: output_frames/shot_0013_frame_3170.jpg\n",
            "300\n",
            "Dumped frame: output_frames/shot_0014_frame_3470.jpg\n",
            "276\n",
            "Dumped frame: output_frames/shot_0015_frame_3770.jpg\n",
            "129\n",
            "Dumped frame: output_frames/shot_0016_frame_4046.jpg\n",
            "53\n",
            "Dumped frame: output_frames/shot_0017_frame_4175.jpg\n",
            "89\n",
            "Dumped frame: output_frames/shot_0018_frame_4228.jpg\n",
            "145\n",
            "Dumped frame: output_frames/shot_0019_frame_4317.jpg\n",
            "165\n",
            "Dumped frame: output_frames/shot_0020_frame_4462.jpg\n",
            "69\n",
            "Dumped frame: output_frames/shot_0021_frame_4627.jpg\n",
            "99\n",
            "Dumped frame: output_frames/shot_0022_frame_4696.jpg\n",
            "192\n",
            "Dumped frame: output_frames/shot_0023_frame_4795.jpg\n",
            "121\n",
            "Dumped frame: output_frames/shot_0024_frame_4987.jpg\n",
            "143\n",
            "Dumped frame: output_frames/shot_0025_frame_5108.jpg\n",
            "47\n",
            "Dumped frame: output_frames/shot_0026_frame_5251.jpg\n",
            "123\n",
            "Dumped frame: output_frames/shot_0027_frame_5298.jpg\n",
            "65\n",
            "Dumped frame: output_frames/shot_0028_frame_5421.jpg\n",
            "110\n",
            "Dumped frame: output_frames/shot_0029_frame_5486.jpg\n",
            "326\n",
            "Dumped frame: output_frames/shot_0030_frame_5596.jpg\n",
            "117\n",
            "Dumped frame: output_frames/shot_0031_frame_5922.jpg\n",
            "152\n",
            "Dumped frame: output_frames/shot_0032_frame_6039.jpg\n",
            "275\n",
            "Dumped frame: output_frames/shot_0033_frame_6191.jpg\n",
            "289\n",
            "Dumped frame: output_frames/shot_0034_frame_6466.jpg\n",
            "289\n",
            "Dumped frame: output_frames/shot_0035_frame_6755.jpg\n",
            "36\n",
            "Dumped frame: output_frames/shot_0036_frame_7044.jpg\n",
            "26\n",
            "Dumped frame: output_frames/shot_0037_frame_7080.jpg\n",
            "\u001b[0;36m[h264 @ 0x28de640] \u001b[0m\u001b[1;31mmmco: unref short failure\n",
            "\u001b[0m189\n",
            "Dumped frame: output_frames/shot_0038_frame_7106.jpg\n",
            "36\n",
            "Dumped frame: output_frames/shot_0039_frame_7295.jpg\n",
            "50\n",
            "Dumped frame: output_frames/shot_0040_frame_7331.jpg\n",
            "59\n",
            "Dumped frame: output_frames/shot_0041_frame_7381.jpg\n",
            "42\n",
            "Dumped frame: output_frames/shot_0042_frame_7440.jpg\n",
            "87\n",
            "Dumped frame: output_frames/shot_0043_frame_7482.jpg\n",
            "32\n",
            "Dumped frame: output_frames/shot_0044_frame_7569.jpg\n",
            "85\n",
            "Dumped frame: output_frames/shot_0045_frame_7601.jpg\n",
            "90\n",
            "Dumped frame: output_frames/shot_0046_frame_7686.jpg\n",
            "113\n",
            "Dumped frame: output_frames/shot_0047_frame_7776.jpg\n",
            "41\n",
            "Dumped frame: output_frames/shot_0048_frame_7889.jpg\n",
            "107\n",
            "Dumped frame: output_frames/shot_0049_frame_7930.jpg\n",
            "166\n",
            "Dumped frame: output_frames/shot_0050_frame_8037.jpg\n",
            "92\n",
            "Dumped frame: output_frames/shot_0051_frame_8203.jpg\n",
            "78\n",
            "Dumped frame: output_frames/shot_0052_frame_8295.jpg\n",
            "213\n",
            "Dumped frame: output_frames/shot_0053_frame_8373.jpg\n",
            "101\n",
            "Dumped frame: output_frames/shot_0054_frame_8586.jpg\n",
            "141\n",
            "Dumped frame: output_frames/shot_0055_frame_8687.jpg\n",
            "101\n",
            "Dumped frame: output_frames/shot_0056_frame_8828.jpg\n",
            "235\n",
            "Dumped frame: output_frames/shot_0057_frame_8929.jpg\n",
            "53\n",
            "Dumped frame: output_frames/shot_0058_frame_9164.jpg\n",
            "\u001b[0;36m[h264 @ 0x28de640] \u001b[0m\u001b[1;31mmmco: unref short failure\n",
            "\u001b[0m\u001b[0;36m[h264 @ 0x28de640] \u001b[0m\u001b[1;31mmmco: unref short failure\n",
            "\u001b[0m70\n",
            "Dumped frame: output_frames/shot_0059_frame_9217.jpg\n",
            "275\n",
            "Dumped frame: output_frames/shot_0060_frame_9287.jpg\n",
            "229\n",
            "Dumped frame: output_frames/shot_0061_frame_9562.jpg\n",
            "32\n",
            "Dumped frame: output_frames/shot_0062_frame_9791.jpg\n",
            "89\n",
            "Dumped frame: output_frames/shot_0063_frame_9823.jpg\n",
            "53\n",
            "Dumped frame: output_frames/shot_0064_frame_9912.jpg\n",
            "38\n",
            "Dumped frame: output_frames/shot_0065_frame_9965.jpg\n",
            "309\n",
            "Dumped frame: output_frames/shot_0066_frame_10003.jpg\n",
            "310\n",
            "Dumped frame: output_frames/shot_0067_frame_10312.jpg\n",
            "105\n",
            "Dumped frame: output_frames/shot_0068_frame_10622.jpg\n",
            "102\n",
            "Dumped frame: output_frames/shot_0069_frame_10727.jpg\n",
            "30\n",
            "Dumped frame: output_frames/shot_0070_frame_10829.jpg\n",
            "165\n",
            "Dumped frame: output_frames/shot_0071_frame_10859.jpg\n",
            "50\n",
            "Dumped frame: output_frames/shot_0072_frame_11024.jpg\n",
            "285\n",
            "Dumped frame: output_frames/shot_0073_frame_11074.jpg\n",
            "231\n",
            "Dumped frame: output_frames/shot_0074_frame_11359.jpg\n",
            "164\n",
            "Dumped frame: output_frames/shot_0075_frame_11590.jpg\n",
            "117\n",
            "Dumped frame: output_frames/shot_0076_frame_11754.jpg\n",
            "78\n",
            "Dumped frame: output_frames/shot_0077_frame_11871.jpg\n",
            "77\n",
            "Dumped frame: output_frames/shot_0078_frame_11949.jpg\n",
            "124\n",
            "Dumped frame: output_frames/shot_0079_frame_12026.jpg\n",
            "182\n",
            "Dumped frame: output_frames/shot_0080_frame_12150.jpg\n",
            "74\n",
            "Dumped frame: output_frames/shot_0081_frame_12332.jpg\n",
            "37\n",
            "Dumped frame: output_frames/shot_0082_frame_12406.jpg\n",
            "31\n",
            "Dumped frame: output_frames/shot_0083_frame_12443.jpg\n",
            "100\n",
            "Dumped frame: output_frames/shot_0084_frame_12474.jpg\n",
            "343\n",
            "Dumped frame: output_frames/shot_0085_frame_12574.jpg\n",
            "326\n",
            "Dumped frame: output_frames/shot_0086_frame_12917.jpg\n",
            "271\n",
            "Dumped frame: output_frames/shot_0087_frame_13243.jpg\n",
            "271\n",
            "Dumped frame: output_frames/shot_0088_frame_13514.jpg\n",
            "273\n",
            "Dumped frame: output_frames/shot_0089_frame_13785.jpg\n",
            "193\n",
            "Dumped frame: output_frames/shot_0090_frame_14058.jpg\n",
            "193\n",
            "Dumped frame: output_frames/shot_0091_frame_14251.jpg\n",
            "343\n",
            "Dumped frame: output_frames/shot_0092_frame_14444.jpg\n",
            "343\n",
            "Dumped frame: output_frames/shot_0093_frame_14787.jpg\n",
            "343\n",
            "Dumped frame: output_frames/shot_0094_frame_15130.jpg\n",
            "343\n",
            "Dumped frame: output_frames/shot_0095_frame_15473.jpg\n",
            "343\n",
            "Dumped frame: output_frames/shot_0096_frame_15816.jpg\n",
            "343\n",
            "Dumped frame: output_frames/shot_0097_frame_16159.jpg\n",
            "343\n",
            "Dumped frame: output_frames/shot_0098_frame_16502.jpg\n",
            "343\n",
            "Dumped frame: output_frames/shot_0099_frame_16845.jpg\n",
            "344\n",
            "Dumped frame: output_frames/shot_0100_frame_17188.jpg\n"
          ]
        }
      ]
    },
    {
      "cell_type": "code",
      "source": [
        "!git remote add mygithub https://github.com/pushplatadubey/ils_sum.git"
      ],
      "metadata": {
        "id": "0fWWc9KT9nEQ",
        "colab": {
          "base_uri": "https://localhost:8080/"
        },
        "outputId": "31571b14-8fc2-458a-8739-24daabdc87d3"
      },
      "execution_count": null,
      "outputs": [
        {
          "output_type": "stream",
          "name": "stdout",
          "text": [
            "fatal: not a git repository (or any of the parent directories): .git\n"
          ]
        }
      ]
    },
    {
      "cell_type": "code",
      "source": [
        "!git fetch mygithub"
      ],
      "metadata": {
        "id": "ghLQ09-G9yhX"
      },
      "execution_count": null,
      "outputs": []
    },
    {
      "cell_type": "code",
      "source": [
        "!git add datasets/scripts/"
      ],
      "metadata": {
        "id": "PXJqxozP-xeI"
      },
      "execution_count": null,
      "outputs": []
    },
    {
      "cell_type": "code",
      "source": [
        "!git add -i"
      ],
      "metadata": {
        "colab": {
          "base_uri": "https://localhost:8080/"
        },
        "id": "1Eqod8hz_E64",
        "outputId": "4034eb70-3e3f-409e-e838-1a8779c1fba2"
      },
      "execution_count": null,
      "outputs": [
        {
          "output_type": "stream",
          "name": "stdout",
          "text": [
            "\u001b[1m           staged     unstaged path\u001b[m\n",
            "  1:    unchanged       binary data/Solution_Visualization.png\n",
            "  2:    unchanged       binary data/video_summary.mp4\n",
            "  3:    unchanged       +0/-40 datasets/gt auxiliary scripts/PuLP_for_Knapsack_Median.py\n",
            "  4:    unchanged       +0/-30 datasets/gt auxiliary scripts/extract_features.py\n",
            "  5:    unchanged       +0/-64 datasets/gt auxiliary scripts/ffprob_shot_segmentation.py\n",
            "  6:       +40/-0      nothing datasets/scripts/PuLP_for_Knapsack_Median.py\n",
            "  7:       +30/-0      nothing datasets/scripts/extract_features.py\n",
            "  8:       +70/-0      nothing datasets/scripts/ffprob_shot_segmentation.py\n",
            "\n",
            "\u001b[1m*** Commands ***\u001b[m\n",
            "  1: \u001b[1;34ms\u001b[mtatus\t  2: \u001b[1;34mu\u001b[mpdate\t  3: \u001b[1;34mr\u001b[mevert\t  4: \u001b[1;34ma\u001b[mdd untracked\n",
            "  5: \u001b[1;34mp\u001b[match\t  6: \u001b[1;34md\u001b[miff\t  7: \u001b[1;34mq\u001b[muit\t  8: \u001b[1;34mh\u001b[melp\n",
            "\u001b[1;34mWhat now\u001b[m> 2\n",
            "\u001b[1m           staged     unstaged path\u001b[m\n",
            "  1:    unchanged       binary data/Solution_Visualization.png\n",
            "  2:    unchanged       binary data/video_summary.mp4\n",
            "  3:    unchanged       +0/-40 datasets/gt auxiliary scripts/PuLP_for_Knapsack_Median.py\n",
            "  4:    unchanged       +0/-30 datasets/gt auxiliary scripts/extract_features.py\n",
            "  5:    unchanged       +0/-64 datasets/gt auxiliary scripts/ffprob_shot_segmentation.py\n",
            "\u001b[1;34mUpdate\u001b[m>> 3-5\n",
            "\u001b[1m           staged     unstaged path\u001b[m\n",
            "  1:    unchanged       binary data/Solution_Visualization.png\n",
            "  2:    unchanged       binary data/video_summary.mp4\n",
            "* 3:    unchanged       +0/-40 datasets/gt auxiliary scripts/PuLP_for_Knapsack_Median.py\n",
            "* 4:    unchanged       +0/-30 datasets/gt auxiliary scripts/extract_features.py\n",
            "* 5:    unchanged       +0/-64 datasets/gt auxiliary scripts/ffprob_shot_segmentation.py\n",
            "\u001b[1;34mUpdate\u001b[m>> \n",
            "updated 3 paths\n",
            "\n",
            "\u001b[1m*** Commands ***\u001b[m\n",
            "  1: \u001b[1;34ms\u001b[mtatus\t  2: \u001b[1;34mu\u001b[mpdate\t  3: \u001b[1;34mr\u001b[mevert\t  4: \u001b[1;34ma\u001b[mdd untracked\n",
            "  5: \u001b[1;34mp\u001b[match\t  6: \u001b[1;34md\u001b[miff\t  7: \u001b[1;34mq\u001b[muit\t  8: \u001b[1;34mh\u001b[melp\n",
            "\u001b[1;34mWhat now\u001b[m> 7\n",
            "Bye.\n"
          ]
        }
      ]
    },
    {
      "cell_type": "code",
      "source": [
        "!git commit -s -m \"fix issues in auxiliary scripts\""
      ],
      "metadata": {
        "colab": {
          "base_uri": "https://localhost:8080/"
        },
        "id": "-CxE_e08_fNV",
        "outputId": "5e1d95bc-2503-4b5d-f11d-2ee31ceb3ffc"
      },
      "execution_count": null,
      "outputs": [
        {
          "output_type": "stream",
          "name": "stdout",
          "text": [
            "[master a08b2a4] fix issues in auxiliary scripts\n",
            " 3 files changed, 9 insertions(+), 3 deletions(-)\n",
            " rename datasets/{gt auxiliary scripts => scripts}/PuLP_for_Knapsack_Median.py (100%)\n",
            " rename datasets/{gt auxiliary scripts => scripts}/extract_features.py (100%)\n",
            " rename datasets/{gt auxiliary scripts => scripts}/ffprob_shot_segmentation.py (83%)\n"
          ]
        }
      ]
    },
    {
      "cell_type": "code",
      "source": [
        "!git remote set-url mygithub git@github.com:pushplatadubey/ils_sum.git"
      ],
      "metadata": {
        "id": "pgoYr1NbApUe"
      },
      "execution_count": null,
      "outputs": []
    },
    {
      "cell_type": "code",
      "source": [
        "!ssh-keygen -t rsa -C \"pushplata.dubey@gmail.com\""
      ],
      "metadata": {
        "colab": {
          "base_uri": "https://localhost:8080/"
        },
        "id": "2TDE4w_jMcvd",
        "outputId": "f712d735-d731-4eea-fc9f-6c10d08657c0"
      },
      "execution_count": null,
      "outputs": [
        {
          "output_type": "stream",
          "name": "stdout",
          "text": [
            "Generating public/private rsa key pair.\n",
            "Enter file in which to save the key (/root/.ssh/id_rsa): \n",
            "Enter passphrase (empty for no passphrase): \n",
            "Enter same passphrase again: \n",
            "Your identification has been saved in /root/.ssh/id_rsa\n",
            "Your public key has been saved in /root/.ssh/id_rsa.pub\n",
            "The key fingerprint is:\n",
            "SHA256:MxT3zcnzZRqCjqwlMIP/6oF2ImxGG853n6lboFJfvWg pushplata.dubey@gmail.com\n",
            "The key's randomart image is:\n",
            "+---[RSA 3072]----+\n",
            "|        . .      |\n",
            "|   .     o o + . |\n",
            "|  . +   . . o B o|\n",
            "|   . + o.o   . *.|\n",
            "| o .....S..   . .|\n",
            "|= +.o.o+.o.      |\n",
            "|.O+ooooE .       |\n",
            "|oooo.o+ o        |\n",
            "|   .ooo+         |\n",
            "+----[SHA256]-----+\n"
          ]
        }
      ]
    },
    {
      "cell_type": "code",
      "source": [
        "!git push -f mygithub master"
      ],
      "metadata": {
        "colab": {
          "base_uri": "https://localhost:8080/"
        },
        "id": "qlmKBSkC_xnE",
        "outputId": "311338a7-c2b4-47b3-a7ba-c963fd9dc4fa"
      },
      "execution_count": null,
      "outputs": [
        {
          "output_type": "stream",
          "name": "stdout",
          "text": [
            "Enumerating objects: 243, done.\n",
            "Counting objects:   0% (1/243)\rCounting objects:   1% (3/243)\rCounting objects:   2% (5/243)\rCounting objects:   3% (8/243)\rCounting objects:   4% (10/243)\rCounting objects:   5% (13/243)\rCounting objects:   6% (15/243)\rCounting objects:   7% (18/243)\rCounting objects:   8% (20/243)\rCounting objects:   9% (22/243)\rCounting objects:  10% (25/243)\rCounting objects:  11% (27/243)\rCounting objects:  12% (30/243)\rCounting objects:  13% (32/243)\rCounting objects:  14% (35/243)\rCounting objects:  15% (37/243)\rCounting objects:  16% (39/243)\rCounting objects:  17% (42/243)\rCounting objects:  18% (44/243)\rCounting objects:  19% (47/243)\rCounting objects:  20% (49/243)\rCounting objects:  21% (52/243)\rCounting objects:  22% (54/243)\rCounting objects:  23% (56/243)\rCounting objects:  24% (59/243)\rCounting objects:  25% (61/243)\rCounting objects:  26% (64/243)\rCounting objects:  27% (66/243)\rCounting objects:  28% (69/243)\rCounting objects:  29% (71/243)\rCounting objects:  30% (73/243)\rCounting objects:  31% (76/243)\rCounting objects:  32% (78/243)\rCounting objects:  33% (81/243)\rCounting objects:  34% (83/243)\rCounting objects:  35% (86/243)\rCounting objects:  36% (88/243)\rCounting objects:  37% (90/243)\rCounting objects:  38% (93/243)\rCounting objects:  39% (95/243)\rCounting objects:  40% (98/243)\rCounting objects:  41% (100/243)\rCounting objects:  42% (103/243)\rCounting objects:  43% (105/243)\rCounting objects:  44% (107/243)\rCounting objects:  45% (110/243)\rCounting objects:  46% (112/243)\rCounting objects:  47% (115/243)\rCounting objects:  48% (117/243)\rCounting objects:  49% (120/243)\rCounting objects:  50% (122/243)\rCounting objects:  51% (124/243)\rCounting objects:  52% (127/243)\rCounting objects:  53% (129/243)\rCounting objects:  54% (132/243)\rCounting objects:  55% (134/243)\rCounting objects:  56% (137/243)\rCounting objects:  57% (139/243)\rCounting objects:  58% (141/243)\rCounting objects:  59% (144/243)\rCounting objects:  60% (146/243)\rCounting objects:  61% (149/243)\rCounting objects:  62% (151/243)\rCounting objects:  63% (154/243)\rCounting objects:  64% (156/243)\rCounting objects:  65% (158/243)\rCounting objects:  66% (161/243)\rCounting objects:  67% (163/243)\rCounting objects:  68% (166/243)\rCounting objects:  69% (168/243)\rCounting objects:  70% (171/243)\rCounting objects:  71% (173/243)\rCounting objects:  72% (175/243)\rCounting objects:  73% (178/243)\rCounting objects:  74% (180/243)\rCounting objects:  75% (183/243)\rCounting objects:  76% (185/243)\rCounting objects:  77% (188/243)\rCounting objects:  78% (190/243)\rCounting objects:  79% (192/243)\rCounting objects:  80% (195/243)\rCounting objects:  81% (197/243)\rCounting objects:  82% (200/243)\rCounting objects:  83% (202/243)\rCounting objects:  84% (205/243)\rCounting objects:  85% (207/243)\rCounting objects:  86% (209/243)\rCounting objects:  87% (212/243)\rCounting objects:  88% (214/243)\rCounting objects:  89% (217/243)\rCounting objects:  90% (219/243)\rCounting objects:  91% (222/243)\rCounting objects:  92% (224/243)\rCounting objects:  93% (226/243)\rCounting objects:  94% (229/243)\rCounting objects:  95% (231/243)\rCounting objects:  96% (234/243)\rCounting objects:  97% (236/243)\rCounting objects:  98% (239/243)\rCounting objects:  99% (241/243)\rCounting objects: 100% (243/243)\rCounting objects: 100% (243/243), done.\n",
            "Delta compression using up to 2 threads\n",
            "Compressing objects: 100% (104/104), done.\n",
            "Writing objects: 100% (243/243), 48.80 MiB | 14.40 MiB/s, done.\n",
            "Total 243 (delta 138), reused 236 (delta 134), pack-reused 0\n",
            "remote: Resolving deltas: 100% (138/138), done.\u001b[K\n",
            "To github.com:pushplatadubey/ils_sum.git\n",
            " + 0bba392...a08b2a4 master -> master (forced update)\n"
          ]
        }
      ]
    },
    {
      "cell_type": "code",
      "source": [
        "ls /content/drive/MyDrive/ILS-SUMM/"
      ],
      "metadata": {
        "colab": {
          "base_uri": "https://localhost:8080/"
        },
        "id": "lqVtqBq833G_",
        "outputId": "44b53f00-b67d-493f-bafb-3da38c1ec3e6"
      },
      "execution_count": null,
      "outputs": [
        {
          "output_type": "stream",
          "name": "stdout",
          "text": [
            "auxiliary_functions.py  \u001b[0m\u001b[01;34mdatasets\u001b[0m/  demo.py  id_rsa.pub  ILS_SUMM.py  README.md\n"
          ]
        }
      ]
    },
    {
      "cell_type": "code",
      "source": [
        "!git add npy_to_jason.py"
      ],
      "metadata": {
        "id": "7lS3wy_fRv0m"
      },
      "execution_count": null,
      "outputs": []
    },
    {
      "cell_type": "code",
      "source": [
        "!git commit -s -m \"add utility to convert npy to jason\""
      ],
      "metadata": {
        "colab": {
          "base_uri": "https://localhost:8080/"
        },
        "id": "BHdLMBOQSCPf",
        "outputId": "53508e92-aea7-4009-b9be-661de78f0aa7"
      },
      "execution_count": null,
      "outputs": [
        {
          "output_type": "stream",
          "name": "stdout",
          "text": [
            "[master f18cbb3] add utility to convert npy to jason\n",
            " 1 file changed, 17 insertions(+)\n",
            " create mode 100644 npy_to_jason.py\n"
          ]
        }
      ]
    },
    {
      "cell_type": "code",
      "source": [
        "!git push mygithub master"
      ],
      "metadata": {
        "colab": {
          "base_uri": "https://localhost:8080/"
        },
        "id": "Ehhl2cQcSG1I",
        "outputId": "b871fa23-5e5d-4040-f70f-168e807f337a"
      },
      "execution_count": null,
      "outputs": [
        {
          "output_type": "stream",
          "name": "stdout",
          "text": [
            "Enumerating objects: 4, done.\n",
            "Counting objects:  25% (1/4)\rCounting objects:  50% (2/4)\rCounting objects:  75% (3/4)\rCounting objects: 100% (4/4)\rCounting objects: 100% (4/4), done.\n",
            "Delta compression using up to 2 threads\n",
            "Compressing objects:  33% (1/3)\rCompressing objects:  66% (2/3)\rCompressing objects: 100% (3/3)\rCompressing objects: 100% (3/3), done.\n",
            "Writing objects:  33% (1/3)\rWriting objects:  66% (2/3)\rWriting objects: 100% (3/3)\rWriting objects: 100% (3/3), 652 bytes | 652.00 KiB/s, done.\n",
            "Total 3 (delta 1), reused 0 (delta 0), pack-reused 0\n",
            "remote: Resolving deltas:   0% (0/1)\u001b[K\rremote: Resolving deltas: 100% (1/1)\u001b[K\rremote: Resolving deltas: 100% (1/1), completed with 1 local object.\u001b[K\n",
            "To github.com:pushplatadubey/ils_sum.git\n",
            "   a08b2a4..f18cbb3  master -> master\n"
          ]
        }
      ]
    },
    {
      "cell_type": "code",
      "source": [
        "!python npy_to_jason.py . shots_durations_new.npy"
      ],
      "metadata": {
        "id": "IBGzkaYMSLje"
      },
      "execution_count": null,
      "outputs": []
    },
    {
      "cell_type": "code",
      "source": [
        "!python npy_to_jason.py data shots_durations.npy"
      ],
      "metadata": {
        "id": "ymOIhv-fSx7n"
      },
      "execution_count": null,
      "outputs": []
    },
    {
      "cell_type": "code",
      "source": [
        "!python npy_to_jason.py data shots_features.npy"
      ],
      "metadata": {
        "id": "2BKHjL9rV7-7"
      },
      "execution_count": null,
      "outputs": []
    },
    {
      "cell_type": "code",
      "source": [
        "cp shots_durations_new.npy data/shots_durations.npy"
      ],
      "metadata": {
        "id": "Uz4krSQlXiPt"
      },
      "execution_count": null,
      "outputs": []
    },
    {
      "cell_type": "code",
      "source": [
        "!python /content/ILS-SUMM/demo.py test.mp4 0.5"
      ],
      "metadata": {
        "id": "P6C9sxwaXxl-",
        "outputId": "bb611192-c37d-48d0-f484-b41978edb5e4",
        "colab": {
          "base_uri": "https://localhost:8080/"
        }
      },
      "execution_count": null,
      "outputs": [
        {
          "output_type": "stream",
          "name": "stdout",
          "text": [
            "error: XDG_RUNTIME_DIR not set in the environment.\n",
            "ALSA lib confmisc.c:855:(parse_card) cannot find card '0'\n",
            "ALSA lib conf.c:5178:(_snd_config_evaluate) function snd_func_card_inum returned error: No such file or directory\n",
            "ALSA lib confmisc.c:422:(snd_func_concat) error evaluating strings\n",
            "ALSA lib conf.c:5178:(_snd_config_evaluate) function snd_func_concat returned error: No such file or directory\n",
            "ALSA lib confmisc.c:1334:(snd_func_refer) error evaluating name\n",
            "ALSA lib conf.c:5178:(_snd_config_evaluate) function snd_func_refer returned error: No such file or directory\n",
            "ALSA lib conf.c:5701:(snd_config_expand) Evaluate error: No such file or directory\n",
            "ALSA lib pcm.c:2664:(snd_pcm_open_noupdate) Unknown PCM default\n",
            "ALSA lib confmisc.c:855:(parse_card) cannot find card '0'\n",
            "ALSA lib conf.c:5178:(_snd_config_evaluate) function snd_func_card_inum returned error: No such file or directory\n",
            "ALSA lib confmisc.c:422:(snd_func_concat) error evaluating strings\n",
            "ALSA lib conf.c:5178:(_snd_config_evaluate) function snd_func_concat returned error: No such file or directory\n",
            "ALSA lib confmisc.c:1334:(snd_func_refer) error evaluating name\n",
            "ALSA lib conf.c:5178:(_snd_config_evaluate) function snd_func_refer returned error: No such file or directory\n",
            "ALSA lib conf.c:5701:(snd_config_expand) Evaluate error: No such file or directory\n",
            "ALSA lib pcm.c:2664:(snd_pcm_open_noupdate) Unknown PCM default\n",
            "Local Search - iteration number: 0\n",
            "Total distance: 77.70362420381551\n",
            "Local Search - iteration number: 10\n",
            "Total distance: 20.829285297877174\n",
            "Local Search - iteration number: 20\n",
            "Total distance: 14.037346109565213\n",
            "Local Search - iteration number: 30\n",
            "Total distance: 10.04160725208776\n",
            "Local Search - iteration number: 40\n",
            "Total distance: 7.106174541351685\n",
            "Local Search - iteration number: 50\n",
            "Total distance: 4.621067112471454\n",
            "ILS_SUMM - iteration number: 0\n",
            "Total distance: 4.430328712473872\n",
            "Perturbation with M = 1\n",
            "Perturbation is valid, M = 1\n",
            "Local Search - iteration number: 0\n",
            "Total distance: 4.586894327976905\n",
            "ILS_SUMM - iteration number: 0\n",
            "Total distance: 4.260841391982585\n",
            "Perturbation with M = 1\n",
            "Perturbation is valid, M = 1\n",
            "Local Search - iteration number: 0\n",
            "Total distance: 4.520659937205847\n",
            "ILS_SUMM - iteration number: 0\n",
            "Total distance: 4.260841391982585\n",
            "Perturbation with M = 2\n",
            "Perturbation is valid, M = 2\n",
            "Local Search - iteration number: 0\n",
            "Total distance: 4.80886141159208\n",
            "ILS_SUMM - iteration number: 0\n",
            "Total distance: 4.260841391982583\n",
            "Perturbation with M = 1\n",
            "Perturbation is valid, M = 1\n",
            "Local Search - iteration number: 0\n",
            "Total distance: 4.659662940233998\n",
            "ILS_SUMM - iteration number: 0\n",
            "Total distance: 4.260841391982583\n",
            "Perturbation with M = 2\n",
            "Perturbation is valid, M = 2\n",
            "Local Search - iteration number: 0\n",
            "Total distance: 4.80886141159208\n",
            "ILS_SUMM - iteration number: 0\n",
            "Total distance: 4.260841391982583\n",
            "Perturbation with M = 3\n",
            "Perturbation is valid, M = 3\n",
            "Local Search - iteration number: 0\n",
            "Total distance: 4.994714143773537\n",
            "ILS_SUMM - iteration number: 0\n",
            "Total distance: 4.260841391982583\n",
            "Perturbation with M = 4\n",
            "Perturbation is valid, M = 4\n",
            "Local Search - iteration number: 0\n",
            "Total distance: 5.237511052857796\n",
            "ILS_SUMM - iteration number: 0\n",
            "Total distance: 4.260841391982583\n",
            "Perturbation with M = 5\n",
            "Perturbation is valid, M = 5\n",
            "Local Search - iteration number: 0\n",
            "Total distance: 5.727036496230694\n",
            "The selected shots are: [ 5  7  8  9 12 13 16 18 21 24 26 27 31 33 34 38 39 42 43 45 46 49 50 51\n",
            " 52 53 55 56 57 58 59 60 61 62 63 64 65 66 67 68 69 71 72 73 74 75 76 78\n",
            " 80 84 92 94]\n",
            "The achieved total distance is: 4.261\n",
            "Moviepy - Building video data/video_summary.mp4.\n",
            "MoviePy - Writing audio in video_summaryTEMP_MPY_wvf_snd.mp3\n",
            "MoviePy - Done.\n",
            "Moviepy - Writing video data/video_summary.mp4\n",
            "\n",
            "Moviepy - Done !\n",
            "Moviepy - video ready data/video_summary.mp4\n"
          ]
        }
      ]
    },
    {
      "cell_type": "code",
      "source": [
        "!git push mygithub master"
      ],
      "metadata": {
        "colab": {
          "base_uri": "https://localhost:8080/"
        },
        "id": "EFQYWdY1buYm",
        "outputId": "ebde7e7d-76e1-46ff-8ef1-c542f35cdf88"
      },
      "execution_count": null,
      "outputs": [
        {
          "output_type": "stream",
          "name": "stdout",
          "text": [
            "Enumerating objects: 5, done.\n",
            "Counting objects:  20% (1/5)\rCounting objects:  40% (2/5)\rCounting objects:  60% (3/5)\rCounting objects:  80% (4/5)\rCounting objects: 100% (5/5)\rCounting objects: 100% (5/5), done.\n",
            "Delta compression using up to 2 threads\n",
            "Compressing objects:  33% (1/3)\rCompressing objects:  66% (2/3)\rCompressing objects: 100% (3/3)\rCompressing objects: 100% (3/3), done.\n",
            "Writing objects:  33% (1/3)\rWriting objects:  66% (2/3)\rWriting objects: 100% (3/3)\rWriting objects: 100% (3/3), 500 bytes | 500.00 KiB/s, done.\n",
            "Total 3 (delta 2), reused 0 (delta 0), pack-reused 0\n",
            "remote: Resolving deltas:   0% (0/2)\u001b[K\rremote: Resolving deltas:  50% (1/2)\u001b[K\rremote: Resolving deltas: 100% (2/2)\u001b[K\rremote: Resolving deltas: 100% (2/2), completed with 2 local objects.\u001b[K\n",
            "To github.com:pushplatadubey/ils_sum.git\n",
            "   f18cbb3..a4d2592  master -> master\n"
          ]
        }
      ]
    },
    {
      "cell_type": "code",
      "source": [
        "%cd /content/ILS-SUMM/datasets/ostd/Cosmos\\ Laundromat"
      ],
      "metadata": {
        "colab": {
          "base_uri": "https://localhost:8080/"
        },
        "id": "hTH64T-ec1Zl",
        "outputId": "0a6fa8fd-d16c-4bf4-d713-2c205bd4e2c5"
      },
      "execution_count": null,
      "outputs": [
        {
          "output_type": "stream",
          "name": "stdout",
          "text": [
            "/content/ILS-SUMM/datasets/ostd/Cosmos Laundromat\n"
          ]
        }
      ]
    },
    {
      "cell_type": "code",
      "source": [
        "!ffmpeg -i \"/content/ILS-SUMM/data/test.mp4\" -vf fps=1/1 frame_%04d.jpg"
      ],
      "metadata": {
        "colab": {
          "base_uri": "https://localhost:8080/"
        },
        "collapsed": true,
        "id": "euPfd7qydQC4",
        "outputId": "b60947fb-cebe-4a8b-fc62-b14c74b489b1"
      },
      "execution_count": null,
      "outputs": [
        {
          "output_type": "stream",
          "name": "stdout",
          "text": [
            "ffmpeg version 4.4.2-0ubuntu0.22.04.1 Copyright (c) 2000-2021 the FFmpeg developers\n",
            "  built with gcc 11 (Ubuntu 11.2.0-19ubuntu1)\n",
            "  configuration: --prefix=/usr --extra-version=0ubuntu0.22.04.1 --toolchain=hardened --libdir=/usr/lib/x86_64-linux-gnu --incdir=/usr/include/x86_64-linux-gnu --arch=amd64 --enable-gpl --disable-stripping --enable-gnutls --enable-ladspa --enable-libaom --enable-libass --enable-libbluray --enable-libbs2b --enable-libcaca --enable-libcdio --enable-libcodec2 --enable-libdav1d --enable-libflite --enable-libfontconfig --enable-libfreetype --enable-libfribidi --enable-libgme --enable-libgsm --enable-libjack --enable-libmp3lame --enable-libmysofa --enable-libopenjpeg --enable-libopenmpt --enable-libopus --enable-libpulse --enable-librabbitmq --enable-librubberband --enable-libshine --enable-libsnappy --enable-libsoxr --enable-libspeex --enable-libsrt --enable-libssh --enable-libtheora --enable-libtwolame --enable-libvidstab --enable-libvorbis --enable-libvpx --enable-libwebp --enable-libx265 --enable-libxml2 --enable-libxvid --enable-libzimg --enable-libzmq --enable-libzvbi --enable-lv2 --enable-omx --enable-openal --enable-opencl --enable-opengl --enable-sdl2 --enable-pocketsphinx --enable-librsvg --enable-libmfx --enable-libdc1394 --enable-libdrm --enable-libiec61883 --enable-chromaprint --enable-frei0r --enable-libx264 --enable-shared\n",
            "  libavutil      56. 70.100 / 56. 70.100\n",
            "  libavcodec     58.134.100 / 58.134.100\n",
            "  libavformat    58. 76.100 / 58. 76.100\n",
            "  libavdevice    58. 13.100 / 58. 13.100\n",
            "  libavfilter     7.110.100 /  7.110.100\n",
            "  libswscale      5.  9.100 /  5.  9.100\n",
            "  libswresample   3.  9.100 /  3.  9.100\n",
            "  libpostproc    55.  9.100 / 55.  9.100\n",
            "Input #0, mov,mp4,m4a,3gp,3g2,mj2, from '/content/ILS-SUMM/data/test.mp4':\n",
            "  Metadata:\n",
            "    major_brand     : isom\n",
            "    minor_version   : 512\n",
            "    compatible_brands: isomiso2avc1mp41\n",
            "    track           : 0\n",
            "    artist          : Blender Foundation\n",
            "    album           : \n",
            "    comment         : On a desolate island, suicidal sheep Franck meets his fate in a quirky salesman, who offers him the gift of a lifetime. Little does he know that he can only handle so much lifetime.\n",
            "                    : \n",
            "                    : (CC) Blender Foundation | www.cosmoslaundromat.org\n",
            "    date            : 2015\n",
            "    genre           : \n",
            "    title           : Cosmos Laundromat: First Cycle\n",
            "    encoder         : Lavf56.40.100\n",
            "  Duration: 00:12:10.62, start: 0.000000, bitrate: 2409 kb/s\n",
            "  Stream #0:0(und): Video: h264 (High) (avc1 / 0x31637661), yuv420p, 1920x804 [SAR 1:1 DAR 160:67], 2278 kb/s, 24 fps, 24 tbr, 90k tbn, 48 tbc (default)\n",
            "    Metadata:\n",
            "      handler_name    : VideoHandler\n",
            "      vendor_id       : [0][0][0][0]\n",
            "  Stream #0:1(und): Audio: aac (LC) (mp4a / 0x6134706D), 44100 Hz, stereo, fltp, 125 kb/s (default)\n",
            "    Metadata:\n",
            "      handler_name    : SoundHandler\n",
            "      vendor_id       : [0][0][0][0]\n",
            "Stream mapping:\n",
            "  Stream #0:0 -> #0:0 (h264 (native) -> mjpeg (native))\n",
            "Press [q] to stop, [?] for help\n",
            "\u001b[1;34m[swscaler @ 0x59ae5879f040] \u001b[0m\u001b[0;33mdeprecated pixel format used, make sure you did set range correctly\n",
            "\u001b[0mOutput #0, image2, to 'frame_%04d.jpg':\n",
            "  Metadata:\n",
            "    major_brand     : isom\n",
            "    minor_version   : 512\n",
            "    compatible_brands: isomiso2avc1mp41\n",
            "    track           : 0\n",
            "    artist          : Blender Foundation\n",
            "    album           : \n",
            "    comment         : On a desolate island, suicidal sheep Franck meets his fate in a quirky salesman, who offers him the gift of a lifetime. Little does he know that he can only handle so much lifetime.\n",
            "                    : \n",
            "                    : (CC) Blender Foundation | www.cosmoslaundromat.org\n",
            "    date            : 2015\n",
            "    genre           : \n",
            "    title           : Cosmos Laundromat: First Cycle\n",
            "    encoder         : Lavf58.76.100\n",
            "  Stream #0:0(und): Video: mjpeg, yuvj420p(pc, progressive), 1920x804 [SAR 1:1 DAR 160:67], q=2-31, 200 kb/s, 1 fps, 1 tbn (default)\n",
            "    Metadata:\n",
            "      handler_name    : VideoHandler\n",
            "      vendor_id       : [0][0][0][0]\n",
            "      encoder         : Lavc58.134.100 mjpeg\n",
            "    Side data:\n",
            "      cpb: bitrate max/min/avg: 0/0/200000 buffer size: 0 vbv_delay: N/A\n",
            "frame=  731 fps= 10 q=24.8 Lsize=N/A time=00:12:11.00 bitrate=N/A speed=10.5x    \n",
            "video:23194kB audio:0kB subtitle:0kB other streams:0kB global headers:0kB muxing overhead: unknown\n"
          ]
        }
      ]
    },
    {
      "cell_type": "code",
      "source": [
        "%cd /content/ILS-SUMM/"
      ],
      "metadata": {
        "colab": {
          "base_uri": "https://localhost:8080/"
        },
        "id": "dPwSYcWgd0ra",
        "outputId": "9006c5f7-9a91-4b90-8909-1820e5919167"
      },
      "execution_count": 22,
      "outputs": [
        {
          "output_type": "stream",
          "name": "stdout",
          "text": [
            "/content/ILS-SUMM\n"
          ]
        }
      ]
    },
    {
      "cell_type": "code",
      "source": [
        "!python /content/ILS-SUMM/datasets/scripts/extract_features.py /content/ILS-SUMM/output_frames/"
      ],
      "metadata": {
        "colab": {
          "base_uri": "https://localhost:8080/"
        },
        "id": "vIBb0TECeeRN",
        "outputId": "d0a06741-92c3-4ffa-b7c0-aecb8c0d75fe"
      },
      "execution_count": null,
      "outputs": [
        {
          "output_type": "stream",
          "name": "stdout",
          "text": [
            "Finished extracting features for 0 frames\n",
            "Finished extracting features for 50 frames\n"
          ]
        }
      ]
    },
    {
      "cell_type": "code",
      "source": [
        "!python npy_to_jason.py . shots_features_new.npy"
      ],
      "metadata": {
        "id": "HWtslTWifKtF"
      },
      "execution_count": null,
      "outputs": []
    },
    {
      "cell_type": "code",
      "source": [
        "!git push mygithub master"
      ],
      "metadata": {
        "colab": {
          "base_uri": "https://localhost:8080/"
        },
        "id": "ma1G0tTsjmfR",
        "outputId": "0531967f-fe67-49c4-f8ce-5ecb368f2b19"
      },
      "execution_count": null,
      "outputs": [
        {
          "output_type": "stream",
          "name": "stdout",
          "text": [
            "Enumerating objects: 9, done.\n",
            "Counting objects:  11% (1/9)\rCounting objects:  22% (2/9)\rCounting objects:  33% (3/9)\rCounting objects:  44% (4/9)\rCounting objects:  55% (5/9)\rCounting objects:  66% (6/9)\rCounting objects:  77% (7/9)\rCounting objects:  88% (8/9)\rCounting objects: 100% (9/9)\rCounting objects: 100% (9/9), done.\n",
            "Delta compression using up to 2 threads\n",
            "Compressing objects:  20% (1/5)\rCompressing objects:  40% (2/5)\rCompressing objects:  60% (3/5)\rCompressing objects:  80% (4/5)\rCompressing objects: 100% (5/5)\rCompressing objects: 100% (5/5), done.\n",
            "Writing objects:  20% (1/5)\rWriting objects:  40% (2/5)\rWriting objects:  60% (3/5)\rWriting objects:  80% (4/5)\rWriting objects: 100% (5/5)\rWriting objects: 100% (5/5), 578 bytes | 578.00 KiB/s, done.\n",
            "Total 5 (delta 4), reused 0 (delta 0), pack-reused 0\n",
            "remote: Resolving deltas:   0% (0/4)\u001b[K\rremote: Resolving deltas:  25% (1/4)\u001b[K\rremote: Resolving deltas:  50% (2/4)\u001b[K\rremote: Resolving deltas:  75% (3/4)\u001b[K\rremote: Resolving deltas: 100% (4/4)\u001b[K\rremote: Resolving deltas: 100% (4/4), completed with 4 local objects.\u001b[K\n",
            "To github.com:pushplatadubey/ils_sum.git\n",
            "   a4d2592..6b3364d  master -> master\n"
          ]
        }
      ]
    },
    {
      "cell_type": "code",
      "source": [
        "!cp /content/drive/MyDrive/ILS-SUMM/id_rsa.pub /root/.ssh/"
      ],
      "metadata": {
        "id": "NRE41mKP37Rs"
      },
      "execution_count": null,
      "outputs": []
    },
    {
      "cell_type": "code",
      "source": [
        "!ffprobe -v error -select_streams v:0 -count_frames -show_entries stream=nb_frames -of default=nokey=1:noprint_wrappers=1 data/test.mp4"
      ],
      "metadata": {
        "colab": {
          "base_uri": "https://localhost:8080/"
        },
        "id": "aCa27dF6_J8x",
        "outputId": "42e4caa2-f51b-4d9f-d472-67da2f449f0b"
      },
      "execution_count": null,
      "outputs": [
        {
          "output_type": "stream",
          "name": "stdout",
          "text": [
            "17532\n"
          ]
        }
      ]
    },
    {
      "cell_type": "code",
      "source": [
        "rm -rf output_frames/"
      ],
      "metadata": {
        "id": "QfSAgf8SVbJ5"
      },
      "execution_count": null,
      "outputs": []
    },
    {
      "cell_type": "code",
      "source": [
        "!python datasets/scripts/ffprob_shot_segmentation.py data test.mp4"
      ],
      "metadata": {
        "colab": {
          "base_uri": "https://localhost:8080/"
        },
        "id": "UXgtYlX9VpT-",
        "outputId": "9405f70d-ad53-4020-90ca-c83a2d283bc0"
      },
      "execution_count": null,
      "outputs": [
        {
          "output_type": "stream",
          "name": "stdout",
          "text": [
            "Ffmpeg shot segmentation in action...\n",
            "ffprobe version 4.4.2-0ubuntu0.22.04.1 Copyright (c) 2007-2021 the FFmpeg developers\n",
            "  built with gcc 11 (Ubuntu 11.2.0-19ubuntu1)\n",
            "  configuration: --prefix=/usr --extra-version=0ubuntu0.22.04.1 --toolchain=hardened --libdir=/usr/lib/x86_64-linux-gnu --incdir=/usr/include/x86_64-linux-gnu --arch=amd64 --enable-gpl --disable-stripping --enable-gnutls --enable-ladspa --enable-libaom --enable-libass --enable-libbluray --enable-libbs2b --enable-libcaca --enable-libcdio --enable-libcodec2 --enable-libdav1d --enable-libflite --enable-libfontconfig --enable-libfreetype --enable-libfribidi --enable-libgme --enable-libgsm --enable-libjack --enable-libmp3lame --enable-libmysofa --enable-libopenjpeg --enable-libopenmpt --enable-libopus --enable-libpulse --enable-librabbitmq --enable-librubberband --enable-libshine --enable-libsnappy --enable-libsoxr --enable-libspeex --enable-libsrt --enable-libssh --enable-libtheora --enable-libtwolame --enable-libvidstab --enable-libvorbis --enable-libvpx --enable-libwebp --enable-libx265 --enable-libxml2 --enable-libxvid --enable-libzimg --enable-libzmq --enable-libzvbi --enable-lv2 --enable-omx --enable-openal --enable-opencl --enable-opengl --enable-sdl2 --enable-pocketsphinx --enable-librsvg --enable-libmfx --enable-libdc1394 --enable-libdrm --enable-libiec61883 --enable-chromaprint --enable-frei0r --enable-libx264 --enable-shared\n",
            "  libavutil      56. 70.100 / 56. 70.100\n",
            "  libavcodec     58.134.100 / 58.134.100\n",
            "  libavformat    58. 76.100 / 58. 76.100\n",
            "  libavdevice    58. 13.100 / 58. 13.100\n",
            "  libavfilter     7.110.100 /  7.110.100\n",
            "  libswscale      5.  9.100 /  5.  9.100\n",
            "  libswresample   3.  9.100 /  3.  9.100\n",
            "  libpostproc    55.  9.100 / 55.  9.100\n",
            "\u001b[1;32m[Parsed_movie_0 @ 0x570c3d3094c0] \u001b[0m\u001b[0;33mEOF timestamp not reliable\n",
            "\u001b[0mInput #0, lavfi, from 'movie=data/test.mp4,select=gt(scene\\,.4)':\n",
            "  Duration: N/A, start: 310.000000, bitrate: N/A\n",
            "  Stream #0:0: Video: rawvideo (I420 / 0x30323449), yuv420p, 1920x804 [SAR 1:1 DAR 160:67], 24 tbr, 90k tbn, 90k tbc\n",
            "Finished ffmpeg shot segmentation\n",
            "Reading shot seg text file\n",
            "2675.0 18141.0\n",
            "7440\n",
            "Dumped frame: output_frames/shot_0000_frame_0000.jpg\n",
            "4314\n",
            "Dumped frame: output_frames/shot_0001_frame_7440.jpg\n",
            "2690\n",
            "Dumped frame: output_frames/shot_0002_frame_11754.jpg\n",
            "3088\n",
            "Dumped frame: output_frames/shot_0003_frame_14444.jpg\n"
          ]
        }
      ]
    },
    {
      "cell_type": "code",
      "source": [
        "!cp shots_durations_new.npy data/shots_durations.npy"
      ],
      "metadata": {
        "id": "l9Np1ktXYK7X"
      },
      "execution_count": null,
      "outputs": []
    },
    {
      "cell_type": "code",
      "source": [
        "!cp shots_features_new.npy data/shots_features.npy"
      ],
      "metadata": {
        "id": "jqRfLb_ZYTw8"
      },
      "execution_count": null,
      "outputs": []
    },
    {
      "cell_type": "code",
      "source": [
        "!git status"
      ],
      "metadata": {
        "colab": {
          "base_uri": "https://localhost:8080/"
        },
        "id": "NMB1F8hXhocr",
        "outputId": "0a768651-d3a1-4c37-c3e6-f972ec722d9a"
      },
      "execution_count": 29,
      "outputs": [
        {
          "output_type": "stream",
          "name": "stdout",
          "text": [
            "On branch master\n",
            "Your branch is up to date with 'origin/master'.\n",
            "\n",
            "Changes to be committed:\n",
            "  (use \"git restore --staged <file>...\" to unstage)\n",
            "\t\u001b[32mmodified:   datasets/scripts/ffprob_shot_segmentation.py\u001b[m\n",
            "\n",
            "Untracked files:\n",
            "  (use \"git add <file>...\" to include in what will be committed)\n",
            "\t\u001b[31mdata/shot_segmentation.txt\u001b[m\n",
            "\t\u001b[31mdata/test.mp4\u001b[m\n",
            "\t\u001b[31mdatasets/ostd/\u001b[m\n",
            "\t\u001b[31moutput_frames/\u001b[m\n",
            "\t\u001b[31mshots_durations_new.npy\u001b[m\n",
            "\n"
          ]
        }
      ]
    },
    {
      "cell_type": "code",
      "source": [
        "!git add -i"
      ],
      "metadata": {
        "colab": {
          "base_uri": "https://localhost:8080/"
        },
        "id": "aQpq2Nf-__e5",
        "outputId": "28069313-f304-4df0-cc6a-fcc4a42b8c6a"
      },
      "execution_count": 28,
      "outputs": [
        {
          "output_type": "stream",
          "name": "stdout",
          "text": [
            "\u001b[1m           staged     unstaged path\u001b[m\n",
            "  1:    unchanged      +112/-3 datasets/scripts/ffprob_shot_segmentation.py\n",
            "\n",
            "\u001b[1m*** Commands ***\u001b[m\n",
            "  1: \u001b[1;34ms\u001b[mtatus\t  2: \u001b[1;34mu\u001b[mpdate\t  3: \u001b[1;34mr\u001b[mevert\t  4: \u001b[1;34ma\u001b[mdd untracked\n",
            "  5: \u001b[1;34mp\u001b[match\t  6: \u001b[1;34md\u001b[miff\t  7: \u001b[1;34mq\u001b[muit\t  8: \u001b[1;34mh\u001b[melp\n",
            "\u001b[1;34mWhat now\u001b[m> 2\n",
            "\u001b[1m           staged     unstaged path\u001b[m\n",
            "  1:    unchanged      +112/-3 \u001b[1;34md\u001b[matasets/scripts/ffprob_shot_segmentation.py\n",
            "\u001b[1;34mUpdate\u001b[m>> 1\n",
            "\u001b[1m           staged     unstaged path\u001b[m\n",
            "* 1:    unchanged      +112/-3 \u001b[1;34md\u001b[matasets/scripts/ffprob_shot_segmentation.py\n",
            "\u001b[1;34mUpdate\u001b[m>> \n",
            "updated 1 path\n",
            "\n",
            "\u001b[1m*** Commands ***\u001b[m\n",
            "  1: \u001b[1;34ms\u001b[mtatus\t  2: \u001b[1;34mu\u001b[mpdate\t  3: \u001b[1;34mr\u001b[mevert\t  4: \u001b[1;34ma\u001b[mdd untracked\n",
            "  5: \u001b[1;34mp\u001b[match\t  6: \u001b[1;34md\u001b[miff\t  7: \u001b[1;34mq\u001b[muit\t  8: \u001b[1;34mh\u001b[melp\n",
            "\u001b[1;34mWhat now\u001b[m> 7\n",
            "Bye.\n"
          ]
        }
      ]
    },
    {
      "cell_type": "code",
      "source": [
        "!git commit -s -m \"Enhanced ffprob_shot_segementation.py\""
      ],
      "metadata": {
        "colab": {
          "base_uri": "https://localhost:8080/"
        },
        "id": "wHjlhzxogqIq",
        "outputId": "900c7a4e-ffeb-463a-d8cd-977141a4bbf6"
      },
      "execution_count": 30,
      "outputs": [
        {
          "output_type": "stream",
          "name": "stdout",
          "text": [
            "[master a981460] Enhanced ffprob_shot_segementation.py\n",
            " 1 file changed, 112 insertions(+), 3 deletions(-)\n"
          ]
        }
      ]
    },
    {
      "cell_type": "code",
      "source": [
        "!git push origin master"
      ],
      "metadata": {
        "colab": {
          "base_uri": "https://localhost:8080/"
        },
        "id": "J5icoqCLhXDN",
        "outputId": "d25ee51b-0095-4374-dece-9c082d6de84c"
      },
      "execution_count": 31,
      "outputs": [
        {
          "output_type": "stream",
          "name": "stdout",
          "text": [
            "Enumerating objects: 9, done.\n",
            "Counting objects:  11% (1/9)\rCounting objects:  22% (2/9)\rCounting objects:  33% (3/9)\rCounting objects:  44% (4/9)\rCounting objects:  55% (5/9)\rCounting objects:  66% (6/9)\rCounting objects:  77% (7/9)\rCounting objects:  88% (8/9)\rCounting objects: 100% (9/9)\rCounting objects: 100% (9/9), done.\n",
            "Delta compression using up to 2 threads\n",
            "Compressing objects:  20% (1/5)\rCompressing objects:  40% (2/5)\rCompressing objects:  60% (3/5)\rCompressing objects:  80% (4/5)\rCompressing objects: 100% (5/5)\rCompressing objects: 100% (5/5), done.\n",
            "Writing objects:  20% (1/5)\rWriting objects:  40% (2/5)\rWriting objects:  60% (3/5)\rWriting objects:  80% (4/5)\rWriting objects: 100% (5/5)\rWriting objects: 100% (5/5), 3.13 KiB | 3.13 MiB/s, done.\n",
            "Total 5 (delta 3), reused 0 (delta 0), pack-reused 0\n",
            "remote: Resolving deltas:   0% (0/3)\u001b[K\rremote: Resolving deltas:  33% (1/3)\u001b[K\rremote: Resolving deltas:  66% (2/3)\u001b[K\rremote: Resolving deltas: 100% (3/3)\u001b[K\rremote: Resolving deltas: 100% (3/3), completed with 3 local objects.\u001b[K\n",
            "To github.com:pushplatadubey/ils_sum.git\n",
            "   bfa3802..a981460  master -> master\n"
          ]
        }
      ]
    }
  ]
}