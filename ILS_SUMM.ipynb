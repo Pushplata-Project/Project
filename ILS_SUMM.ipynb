{
  "nbformat": 4,
  "nbformat_minor": 0,
  "metadata": {
    "colab": {
      "provenance": [],
      "mount_file_id": "1PO3ioF1MDM4I-AwW8JOT1bZT62Z5jPSB",
      "authorship_tag": "ABX9TyNZqUtAEuu5qt9nnYan9NJb",
      "include_colab_link": true
    },
    "kernelspec": {
      "name": "python3",
      "display_name": "Python 3"
    },
    "language_info": {
      "name": "python"
    }
  },
  "cells": [
    {
      "cell_type": "markdown",
      "metadata": {
        "id": "view-in-github",
        "colab_type": "text"
      },
      "source": [
        "<a href=\"https://colab.research.google.com/github/pushplatadubey/collab-notebook/blob/master/ILS_SUMM.ipynb\" target=\"_parent\"><img src=\"https://colab.research.google.com/assets/colab-badge.svg\" alt=\"Open In Colab\"/></a>"
      ]
    },
    {
      "cell_type": "code",
      "execution_count": 1,
      "metadata": {
        "colab": {
          "base_uri": "https://localhost:8080/"
        },
        "id": "W9B3Tu3nmZ3d",
        "outputId": "9c7ecf82-44bd-41c3-e486-bfa092c2c54d"
      },
      "outputs": [
        {
          "output_type": "stream",
          "name": "stdout",
          "text": [
            "Cloning into 'ILS-SUMM'...\n",
            "remote: Enumerating objects: 238, done.\u001b[K\n",
            "remote: Counting objects: 100% (24/24), done.\u001b[K\n",
            "remote: Compressing objects: 100% (24/24), done.\u001b[K\n",
            "remote: Total 238 (delta 13), reused 0 (delta 0), pack-reused 214 (from 1)\u001b[K\n",
            "Receiving objects: 100% (238/238), 48.80 MiB | 27.04 MiB/s, done.\n",
            "Resolving deltas: 100% (134/134), done.\n"
          ]
        }
      ],
      "source": [
        "!git clone https://github.com/YairShemer/ILS-SUMM"
      ]
    },
    {
      "cell_type": "code",
      "source": [
        "%cd /content/ILS-SUMM/data/"
      ],
      "metadata": {
        "colab": {
          "base_uri": "https://localhost:8080/"
        },
        "id": "vPqDxIoyxgJ2",
        "outputId": "e2c2a555-e844-456d-8b33-ceee0cbe5ced"
      },
      "execution_count": 2,
      "outputs": [
        {
          "output_type": "stream",
          "name": "stdout",
          "text": [
            "/content/ILS-SUMM/data\n"
          ]
        }
      ]
    },
    {
      "cell_type": "code",
      "source": [
        "!wget https://archive.org/download/CosmosLaundromatFirstCycle/Cosmos%20Laundromat%20-%20First%20Cycle%20%281080p%29.mp4"
      ],
      "metadata": {
        "colab": {
          "base_uri": "https://localhost:8080/"
        },
        "collapsed": true,
        "id": "LNbWMLEBgW6k",
        "outputId": "d0efa0dc-f0c7-4b97-ea09-b47809604b4a"
      },
      "execution_count": 3,
      "outputs": [
        {
          "output_type": "stream",
          "name": "stdout",
          "text": [
            "--2025-02-21 13:51:00--  https://archive.org/download/CosmosLaundromatFirstCycle/Cosmos%20Laundromat%20-%20First%20Cycle%20%281080p%29.mp4\n",
            "Resolving archive.org (archive.org)... 207.241.224.2\n",
            "Connecting to archive.org (archive.org)|207.241.224.2|:443... connected.\n",
            "HTTP request sent, awaiting response... 302 Found\n",
            "Location: https://dn720707.ca.archive.org/0/items/CosmosLaundromatFirstCycle/Cosmos%20Laundromat%20-%20First%20Cycle%20%281080p%29.mp4 [following]\n",
            "--2025-02-21 13:51:01--  https://dn720707.ca.archive.org/0/items/CosmosLaundromatFirstCycle/Cosmos%20Laundromat%20-%20First%20Cycle%20%281080p%29.mp4\n",
            "Resolving dn720707.ca.archive.org (dn720707.ca.archive.org)... 204.62.246.92\n",
            "Connecting to dn720707.ca.archive.org (dn720707.ca.archive.org)|204.62.246.92|:443... connected.\n",
            "HTTP request sent, awaiting response... 200 OK\n",
            "Length: 220087570 (210M) [video/mp4]\n",
            "Saving to: ‘Cosmos Laundromat - First Cycle (1080p).mp4’\n",
            "\n",
            "Cosmos Laundromat - 100%[===================>] 209.89M  37.6MB/s    in 5.3s    \n",
            "\n",
            "2025-02-21 13:51:06 (39.8 MB/s) - ‘Cosmos Laundromat - First Cycle (1080p).mp4’ saved [220087570/220087570]\n",
            "\n"
          ]
        }
      ]
    },
    {
      "cell_type": "code",
      "source": [
        "!mv Cosmos\\ Laundromat\\ -\\ First\\ Cycle\\ \\(1080p\\).mp4 test.mp4"
      ],
      "metadata": {
        "id": "8MUi6tkIxrwF"
      },
      "execution_count": 4,
      "outputs": []
    },
    {
      "cell_type": "code",
      "source": [
        "%cd /content/ILS-SUMM/datasets/"
      ],
      "metadata": {
        "colab": {
          "base_uri": "https://localhost:8080/"
        },
        "id": "qPTi917iyBdU",
        "outputId": "363cd0fe-1c85-4bc9-f125-e179a0f1a20d"
      },
      "execution_count": 5,
      "outputs": [
        {
          "output_type": "stream",
          "name": "stdout",
          "text": [
            "/content/ILS-SUMM/datasets\n"
          ]
        }
      ]
    },
    {
      "cell_type": "code",
      "source": [
        "!unzip ostd.zip"
      ],
      "metadata": {
        "id": "ISrZMl9hmiwK",
        "colab": {
          "base_uri": "https://localhost:8080/"
        },
        "collapsed": true,
        "outputId": "c568f5fa-2f23-4dae-ced9-65ea1941fd33"
      },
      "execution_count": 6,
      "outputs": [
        {
          "output_type": "stream",
          "name": "stdout",
          "text": [
            "Archive:  ostd.zip\n",
            "   creating: ostd/1000 Days/\n",
            "  inflating: ostd/1000 Days/optimal_representative_points.npy  \n",
            "  inflating: ostd/1000 Days/optimal_total_distance.npy  \n",
            "  inflating: ostd/1000 Days/shots_durations.npy  \n",
            "  inflating: ostd/1000 Days/shots_features.npy  \n",
            "   creating: ostd/Big Buck Bunny/\n",
            "  inflating: ostd/Big Buck Bunny/optimal_representative_points.npy  \n",
            "  inflating: ostd/Big Buck Bunny/optimal_total_distance.npy  \n",
            "  inflating: ostd/Big Buck Bunny/shots_durations.npy  \n",
            "  inflating: ostd/Big Buck Bunny/shots_features.npy  \n",
            "   creating: ostd/Boy Who Never Slept/\n",
            "  inflating: ostd/Boy Who Never Slept/optimal_representative_points.npy  \n",
            "  inflating: ostd/Boy Who Never Slept/optimal_total_distance.npy  \n",
            "  inflating: ostd/Boy Who Never Slept/shots_durations.npy  \n",
            "  inflating: ostd/Boy Who Never Slept/shots_features.npy  \n",
            "   creating: ostd/CH7/\n",
            "  inflating: ostd/CH7/optimal_representative_points.npy  \n",
            "  inflating: ostd/CH7/optimal_total_distance.npy  \n",
            "  inflating: ostd/CH7/shots_durations.npy  \n",
            "  inflating: ostd/CH7/shots_features.npy  \n",
            "   creating: ostd/Cosmos Laundromat/\n",
            "  inflating: ostd/Cosmos Laundromat/optimal_representative_points.npy  \n",
            "  inflating: ostd/Cosmos Laundromat/optimal_total_distance.npy  \n",
            "  inflating: ostd/Cosmos Laundromat/shots_durations.npy  \n",
            "  inflating: ostd/Cosmos Laundromat/shots_features.npy  \n",
            "   creating: ostd/Elephants Dream/\n",
            "  inflating: ostd/Elephants Dream/optimal_representative_points.npy  \n",
            "  inflating: ostd/Elephants Dream/optimal_total_distance.npy  \n",
            "  inflating: ostd/Elephants Dream/shots_durations.npy  \n",
            "  inflating: ostd/Elephants Dream/shots_features.npy  \n",
            "   creating: ostd/Honey/\n",
            "  inflating: ostd/Honey/optimal_representative_points.npy  \n",
            "  inflating: ostd/Honey/optimal_total_distance.npy  \n",
            "  inflating: ostd/Honey/shots_durations.npy  \n",
            "  inflating: ostd/Honey/shots_features.npy  \n",
            "   creating: ostd/Jathias Wager/\n",
            "  inflating: ostd/Jathias Wager/optimal_representative_points.npy  \n",
            "  inflating: ostd/Jathias Wager/optimal_total_distance.npy  \n",
            "  inflating: ostd/Jathias Wager/shots_durations.npy  \n",
            "  inflating: ostd/Jathias Wager/shots_features.npy  \n",
            "   creating: ostd/La Chute dune Plume/\n",
            "  inflating: ostd/La Chute dune Plume/optimal_representative_points.npy  \n",
            "  inflating: ostd/La Chute dune Plume/optimal_total_distance.npy  \n",
            "  inflating: ostd/La Chute dune Plume/shots_durations.npy  \n",
            "  inflating: ostd/La Chute dune Plume/shots_features.npy  \n",
            "   creating: ostd/Meridian/\n",
            "  inflating: ostd/Meridian/optimal_representative_points.npy  \n",
            "  inflating: ostd/Meridian/optimal_total_distance.npy  \n",
            "  inflating: ostd/Meridian/shots_durations.npy  \n",
            "  inflating: ostd/Meridian/shots_features.npy  \n",
            "   creating: ostd/Pentagon/\n",
            "  inflating: ostd/Pentagon/optimal_representative_points.npy  \n",
            "  inflating: ostd/Pentagon/optimal_total_distance.npy  \n",
            "  inflating: ostd/Pentagon/shots_durations.npy  \n",
            "  inflating: ostd/Pentagon/shots_features.npy  \n",
            "   creating: ostd/Route 66/\n",
            "  inflating: ostd/Route 66/optimal_representative_points.npy  \n",
            "  inflating: ostd/Route 66/optimal_total_distance.npy  \n",
            "  inflating: ostd/Route 66/shots_durations.npy  \n",
            "  inflating: ostd/Route 66/shots_features.npy  \n",
            "   creating: ostd/Seven Dead Men/\n",
            "  inflating: ostd/Seven Dead Men/optimal_representative_points.npy  \n",
            "  inflating: ostd/Seven Dead Men/optimal_total_distance.npy  \n",
            "  inflating: ostd/Seven Dead Men/shots_durations.npy  \n",
            "  inflating: ostd/Seven Dead Men/shots_features.npy  \n",
            "   creating: ostd/Sintel/\n",
            "  inflating: ostd/Sintel/optimal_representative_points.npy  \n",
            "  inflating: ostd/Sintel/optimal_total_distance.npy  \n",
            "  inflating: ostd/Sintel/shots_durations.npy  \n",
            "  inflating: ostd/Sintel/shots_features.npy  \n",
            "   creating: ostd/Sita Sings the Blues/\n",
            "  inflating: ostd/Sita Sings the Blues/optimal_representative_points.npy  \n",
            "  inflating: ostd/Sita Sings the Blues/optimal_total_distance.npy  \n",
            "  inflating: ostd/Sita Sings the Blues/shots_durations.npy  \n",
            "  inflating: ostd/Sita Sings the Blues/shots_features.npy  \n",
            "   creating: ostd/Star Wreck/\n",
            "  inflating: ostd/Star Wreck/optimal_representative_points.npy  \n",
            "  inflating: ostd/Star Wreck/optimal_total_distance.npy  \n",
            "  inflating: ostd/Star Wreck/shots_durations.npy  \n",
            "  inflating: ostd/Star Wreck/shots_features.npy  \n",
            "   creating: ostd/Tears of Steel/\n",
            "  inflating: ostd/Tears of Steel/optimal_representative_points.npy  \n",
            "  inflating: ostd/Tears of Steel/optimal_total_distance.npy  \n",
            "  inflating: ostd/Tears of Steel/shots_durations.npy  \n",
            "  inflating: ostd/Tears of Steel/shots_features.npy  \n",
            "   creating: ostd/Valkaama/\n",
            "  inflating: ostd/Valkaama/optimal_representative_points.npy  \n",
            "  inflating: ostd/Valkaama/optimal_total_distance.npy  \n",
            "  inflating: ostd/Valkaama/shots_durations.npy  \n",
            "  inflating: ostd/Valkaama/shots_features.npy  \n"
          ]
        }
      ]
    },
    {
      "cell_type": "code",
      "source": [
        "%cd /content/ILS-SUMM/datasets/ostd/Cosmos\\ Laundromat"
      ],
      "metadata": {
        "colab": {
          "base_uri": "https://localhost:8080/"
        },
        "id": "YEebFlN9ydZu",
        "outputId": "24e0841c-4843-49d9-bf09-8864fbf24aef"
      },
      "execution_count": 7,
      "outputs": [
        {
          "output_type": "stream",
          "name": "stdout",
          "text": [
            "/content/ILS-SUMM/datasets/ostd/Cosmos Laundromat\n"
          ]
        }
      ]
    },
    {
      "cell_type": "code",
      "source": [
        "!cp shots_durations.npy shots_features.npy /content/ILS-SUMM/data/"
      ],
      "metadata": {
        "id": "3f1U8Q50ysHE"
      },
      "execution_count": 8,
      "outputs": []
    },
    {
      "cell_type": "code",
      "source": [
        "%cd /content/ILS-SUMM/"
      ],
      "metadata": {
        "colab": {
          "base_uri": "https://localhost:8080/"
        },
        "id": "l1ZIYYFEy21F",
        "outputId": "d6906e8c-b1a0-49d0-c0eb-a677e65157bf"
      },
      "execution_count": 9,
      "outputs": [
        {
          "output_type": "stream",
          "name": "stdout",
          "text": [
            "/content/ILS-SUMM\n"
          ]
        }
      ]
    },
    {
      "cell_type": "code",
      "source": [
        "!python /content/ILS-SUMM/demo.py test.mp4 0.5"
      ],
      "metadata": {
        "colab": {
          "base_uri": "https://localhost:8080/"
        },
        "id": "wtgCaGFGmp27",
        "outputId": "bf7c03f0-5026-453c-de7d-b1e29279ba1c",
        "collapsed": true
      },
      "execution_count": 10,
      "outputs": [
        {
          "output_type": "stream",
          "name": "stdout",
          "text": [
            "error: XDG_RUNTIME_DIR not set in the environment.\n",
            "ALSA lib confmisc.c:855:(parse_card) cannot find card '0'\n",
            "ALSA lib conf.c:5178:(_snd_config_evaluate) function snd_func_card_inum returned error: No such file or directory\n",
            "ALSA lib confmisc.c:422:(snd_func_concat) error evaluating strings\n",
            "ALSA lib conf.c:5178:(_snd_config_evaluate) function snd_func_concat returned error: No such file or directory\n",
            "ALSA lib confmisc.c:1334:(snd_func_refer) error evaluating name\n",
            "ALSA lib conf.c:5178:(_snd_config_evaluate) function snd_func_refer returned error: No such file or directory\n",
            "ALSA lib conf.c:5701:(snd_config_expand) Evaluate error: No such file or directory\n",
            "ALSA lib pcm.c:2664:(snd_pcm_open_noupdate) Unknown PCM default\n",
            "ALSA lib confmisc.c:855:(parse_card) cannot find card '0'\n",
            "ALSA lib conf.c:5178:(_snd_config_evaluate) function snd_func_card_inum returned error: No such file or directory\n",
            "ALSA lib confmisc.c:422:(snd_func_concat) error evaluating strings\n",
            "ALSA lib conf.c:5178:(_snd_config_evaluate) function snd_func_concat returned error: No such file or directory\n",
            "ALSA lib confmisc.c:1334:(snd_func_refer) error evaluating name\n",
            "ALSA lib conf.c:5178:(_snd_config_evaluate) function snd_func_refer returned error: No such file or directory\n",
            "ALSA lib conf.c:5701:(snd_config_expand) Evaluate error: No such file or directory\n",
            "ALSA lib pcm.c:2664:(snd_pcm_open_noupdate) Unknown PCM default\n",
            "Local Search - iteration number: 0\n",
            "Total distance: 92.2720226317863\n",
            "Local Search - iteration number: 10\n",
            "Total distance: 22.98526119020353\n",
            "Local Search - iteration number: 20\n",
            "Total distance: 15.534687217321334\n",
            "Local Search - iteration number: 30\n",
            "Total distance: 10.98117357355238\n",
            "Local Search - iteration number: 40\n",
            "Total distance: 7.802800467162285\n",
            "Local Search - iteration number: 50\n",
            "Total distance: 5.286429309794315\n",
            "ILS_SUMM - iteration number: 0\n",
            "Total distance: 4.220196013267757\n",
            "Perturbation with M = 1\n",
            "Perturbation is valid, M = 1\n",
            "Local Search - iteration number: 0\n",
            "Total distance: 4.662470922136968\n",
            "ILS_SUMM - iteration number: 0\n",
            "Total distance: 4.172855709958271\n",
            "Perturbation with M = 1\n",
            "Perturbation is valid, M = 1\n",
            "Local Search - iteration number: 0\n",
            "Total distance: 4.602616899176386\n",
            "ILS_SUMM - iteration number: 0\n",
            "Total distance: 4.172855709958271\n",
            "Perturbation with M = 2\n",
            "Perturbation is valid, M = 2\n",
            "Local Search - iteration number: 0\n",
            "Total distance: 4.826343168453304\n",
            "ILS_SUMM - iteration number: 0\n",
            "Total distance: 4.134266351247334\n",
            "Perturbation with M = 1\n",
            "Perturbation is valid, M = 1\n",
            "Local Search - iteration number: 0\n",
            "Total distance: 4.551018707136544\n",
            "ILS_SUMM - iteration number: 0\n",
            "Total distance: 4.134266351247334\n",
            "Perturbation with M = 2\n",
            "Perturbation is valid, M = 2\n",
            "Local Search - iteration number: 0\n",
            "Total distance: 4.790464121489884\n",
            "ILS_SUMM - iteration number: 0\n",
            "Total distance: 4.134266351247334\n",
            "Perturbation with M = 3\n",
            "Perturbation is valid, M = 3\n",
            "Local Search - iteration number: 0\n",
            "Total distance: 5.15740067629249\n",
            "ILS_SUMM - iteration number: 0\n",
            "Total distance: 4.134266351247334\n",
            "Perturbation with M = 4\n",
            "Perturbation is valid, M = 4\n",
            "Local Search - iteration number: 0\n",
            "Total distance: 5.530614479454251\n",
            "ILS_SUMM - iteration number: 0\n",
            "Total distance: 4.134266351247334\n",
            "Perturbation with M = 5\n",
            "Perturbation is valid, M = 5\n",
            "Local Search - iteration number: 0\n",
            "Total distance: 5.849499339632971\n",
            "The selected shots are: [  2   3   5   6   8   9  10  11  13  14  16  17  20  23  24  31  32  37\n",
            "  42  43  44  45  47  50  51  52  54  55  57  58  59  60  61  62  64  65\n",
            "  66  67  68  69  70  71  72  73  74  75  76  77  78  79  80  81  82  84\n",
            "  85  86  88  90 102]\n",
            "The achieved total distance is: 4.134\n",
            "Moviepy - Building video data/video_summary.mp4.\n",
            "MoviePy - Writing audio in video_summaryTEMP_MPY_wvf_snd.mp3\n",
            "MoviePy - Done.\n",
            "Moviepy - Writing video data/video_summary.mp4\n",
            "\n",
            "Moviepy - Done !\n",
            "Moviepy - video ready data/video_summary.mp4\n"
          ]
        }
      ]
    }
  ]
}